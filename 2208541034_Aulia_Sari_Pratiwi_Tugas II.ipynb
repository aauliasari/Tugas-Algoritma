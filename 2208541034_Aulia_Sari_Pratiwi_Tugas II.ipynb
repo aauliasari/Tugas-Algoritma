{
  "nbformat": 4,
  "nbformat_minor": 0,
  "metadata": {
    "colab": {
      "provenance": []
    },
    "kernelspec": {
      "name": "python3",
      "display_name": "Python 3"
    },
    "language_info": {
      "name": "python"
    }
  },
  "cells": [
    {
      "cell_type": "code",
      "execution_count": null,
      "metadata": {
        "colab": {
          "base_uri": "https://localhost:8080/"
        },
        "id": "0UBLiNmguugX",
        "outputId": "e323dcd8-8984-418d-a562-6837f7f21225"
      },
      "outputs": [
        {
          "output_type": "stream",
          "name": "stdout",
          "text": [
            "Berapakah jumlah uang di dompet anda?30000\n",
            "Berpakah jumlah uang anda di bank?20000\n",
            "Total uang anda adalah Rp 3000020000\n"
          ]
        }
      ],
      "source": [
        "#type data : numerik, integer(bulat), float (desimal), string (nama, huruf), boolian(true/false)\n",
        "#yang salah\n",
        "uang_di_dompet = input(\"Berapakah jumlah uang di dompet anda?\")\n",
        "uang_di_bank = input(\"Berpakah jumlah uang anda di bank?\")\n",
        "print(\"Total uang anda adalah Rp \" + uang_di_dompet + uang_di_bank)\n",
        "#hasilnya salah karena tidak ada type datanya\n",
        "#tanda (+) disini adalah untuk menyambungkan kata"
      ]
    },
    {
      "cell_type": "code",
      "source": [
        "#yang benar\n",
        "uang_di_dompet = input(\"Berapakah jumlah uang di dompet anda?\")\n",
        "uang_di_bank = input(\"Berpakah jumlah uang anda di bank?\")\n",
        "total_uang = int(uang_di_dompet) + int(uang_di_bank)\n",
        "print(\"Total uang anda adalah Rp \" + str(total_uang))\n",
        "#setelah type data diberi tanda()"
      ],
      "metadata": {
        "colab": {
          "base_uri": "https://localhost:8080/"
        },
        "id": "kI_Aun5dvq3W",
        "outputId": "44565f4f-aaea-480a-a57a-f1e22507005e"
      },
      "execution_count": null,
      "outputs": [
        {
          "output_type": "stream",
          "name": "stdout",
          "text": [
            "Berapakah jumlah uang di dompet anda?20000\n",
            "Berpakah jumlah uang anda di bank?100000\n",
            "Total uang anda adalah Rp 120000\n"
          ]
        }
      ]
    },
    {
      "cell_type": "code",
      "source": [
        "#Akan error apabila petik satu dengan yang lain berbeda\n",
        "print (\"i love you\")"
      ],
      "metadata": {
        "colab": {
          "base_uri": "https://localhost:8080/"
        },
        "id": "-SEjZ_c0wWyb",
        "outputId": "fd159be9-63e2-4260-e02a-d28fc43d0870"
      },
      "execution_count": null,
      "outputs": [
        {
          "output_type": "stream",
          "name": "stdout",
          "text": [
            "i love you\n"
          ]
        }
      ]
    },
    {
      "cell_type": "code",
      "source": [
        "#tanda (\\n) untuk enter ke bawah\n",
        "print (\"i love you \\n but i cant have you\")"
      ],
      "metadata": {
        "colab": {
          "base_uri": "https://localhost:8080/"
        },
        "id": "NrBK7Kxwy9vX",
        "outputId": "7fe65ed1-af70-4dcd-b047-f1608703efdf"
      },
      "execution_count": null,
      "outputs": [
        {
          "output_type": "stream",
          "name": "stdout",
          "text": [
            "i love you \n",
            " but i cant have you\n"
          ]
        }
      ]
    },
    {
      "cell_type": "code",
      "source": [
        "#apabila sudah di awal memasukkan data dengan hasil awal, dan jika nanti ingin memasukkan data dengan hasil baru, maka di restart terlebih dahulu\n",
        "#tanda (*) untuk perkalian data\n",
        "mahasiswa = 22\n",
        "jumlah_kelas = 35\n",
        "print(mahasiswa)\n",
        "print(jumlah_kelas)\n",
        "print(mahasiswa*jumlah_kelas)"
      ],
      "metadata": {
        "colab": {
          "base_uri": "https://localhost:8080/"
        },
        "id": "tkq_1Xeay_3v",
        "outputId": "55b99a57-f951-43be-b1fe-6b2c08372c95"
      },
      "execution_count": null,
      "outputs": [
        {
          "output_type": "stream",
          "name": "stdout",
          "text": [
            "22\n",
            "35\n",
            "770\n"
          ]
        }
      ]
    },
    {
      "cell_type": "code",
      "source": [
        "nama = input(\"input nama anda:\")\n",
        "print(\"salam sayang\" + \" \" + nama)\n",
        "#jangan lupa memberi tanda (\" \") untuk spasi"
      ],
      "metadata": {
        "colab": {
          "base_uri": "https://localhost:8080/"
        },
        "id": "YH6qb_2EzCE6",
        "outputId": "8db1ed27-5a10-44d6-e80d-0cf5fe8f5748"
      },
      "execution_count": null,
      "outputs": [
        {
          "output_type": "stream",
          "name": "stdout",
          "text": [
            "input nama anda:aulia\n",
            "salam sayang aulia\n"
          ]
        }
      ]
    },
    {
      "cell_type": "code",
      "source": [
        "#tanda (\\) untuk menyambungkan kalimat\n",
        "print(\"i love you \\\n",
        "      but i cant have you\")"
      ],
      "metadata": {
        "colab": {
          "base_uri": "https://localhost:8080/"
        },
        "id": "MrgGfoVbzFTz",
        "outputId": "cb66bb7c-c47f-4aca-f351-ac2a610f5fbc"
      },
      "execution_count": null,
      "outputs": [
        {
          "output_type": "stream",
          "name": "stdout",
          "text": [
            "i love you       but i cant have you\n"
          ]
        }
      ]
    },
    {
      "cell_type": "code",
      "source": [
        "#Akan error apabila petik yang satu dengan yang lain berbeda\n",
        "#yang salah\n",
        "print (\"i love you')"
      ],
      "metadata": {
        "colab": {
          "base_uri": "https://localhost:8080/",
          "height": 131
        },
        "id": "nD8F9zyx2jrx",
        "outputId": "fdfc193c-2d2a-43fa-f707-a1d3021d74d5"
      },
      "execution_count": null,
      "outputs": [
        {
          "output_type": "error",
          "ename": "SyntaxError",
          "evalue": "ignored",
          "traceback": [
            "\u001b[0;36m  File \u001b[0;32m\"<ipython-input-13-179b708f9d44>\"\u001b[0;36m, line \u001b[0;32m3\u001b[0m\n\u001b[0;31m    print (\"i love you')\u001b[0m\n\u001b[0m                        ^\u001b[0m\n\u001b[0;31mSyntaxError\u001b[0m\u001b[0;31m:\u001b[0m EOL while scanning string literal\n"
          ]
        }
      ]
    },
    {
      "cell_type": "code",
      "source": [
        "#yang benar \n",
        "print (\"i love you\")"
      ],
      "metadata": {
        "colab": {
          "base_uri": "https://localhost:8080/"
        },
        "id": "1_iOWms543Xq",
        "outputId": "c839c668-051c-49ea-f639-dec3e31e3b27"
      },
      "execution_count": null,
      "outputs": [
        {
          "output_type": "stream",
          "name": "stdout",
          "text": [
            "i love you\n"
          ]
        }
      ]
    },
    {
      "cell_type": "code",
      "source": [
        "nama = 'aulia'\n",
        "pekerjaan = 'mahasiswa'\n",
        "institusi = 'universitas udayana'\n",
        "print (nama +' ' + 'adalah seseorang' + ' ' + pekerjaan + ' ' + 'di' + ' ' + institusi +'.')"
      ],
      "metadata": {
        "colab": {
          "base_uri": "https://localhost:8080/"
        },
        "id": "hkTESZt948dU",
        "outputId": "58eb1454-bcec-464e-cdcc-b3e777a90197"
      },
      "execution_count": null,
      "outputs": [
        {
          "output_type": "stream",
          "name": "stdout",
          "text": [
            "aulia adalah seseorang mahasiswa di universitas udayana.\n"
          ]
        }
      ]
    },
    {
      "cell_type": "code",
      "source": [],
      "metadata": {
        "id": "empSo4R66THy"
      },
      "execution_count": null,
      "outputs": []
    }
  ]
}
