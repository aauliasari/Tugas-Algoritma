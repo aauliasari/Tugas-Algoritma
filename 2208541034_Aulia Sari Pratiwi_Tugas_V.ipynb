{
 "cells": [
  {
   "cell_type": "markdown",
   "id": "1127035f",
   "metadata": {},
   "source": [
    "# 5.16 List 2 Dimensi\n",
    "List 2 dimensi pada umumnya adalah menempatkan sebuah list di dalam list."
   ]
  },
  {
   "cell_type": "code",
   "execution_count": 1,
   "id": "a80ee5cf",
   "metadata": {},
   "outputs": [
    {
     "name": "stdout",
     "output_type": "stream",
     "text": [
      "[[1, 2, 3], [3, 2, 3], [1, 3, 2]]\n"
     ]
    }
   ],
   "source": [
    "#Latihan List 2 Dimensi 1\n",
    "\n",
    "matrik = [\n",
    "    #selalu awali list dengan [ yang mengartikan bentuk program ini adalah list\n",
    "    [1,2,3],     #baris ke 0\n",
    "    [3,2,3],\n",
    "    [1,3,2],\n",
    "]\n",
    "#dan selalu akhiri dengan ] yang mengartikan list selesai\n",
    "print (matrik)\n",
    "\n",
    "#untuk baris adalah urutan mendatar\n",
    "#untuk kolom adalah urutan menurun\n",
    "#baris dan kolom dimulai dari 0"
   ]
  },
  {
   "cell_type": "code",
   "execution_count": 2,
   "id": "b3d2f93d",
   "metadata": {},
   "outputs": [
    {
     "data": {
      "text/plain": [
       "[3, 2, 3]"
      ]
     },
     "execution_count": 2,
     "metadata": {},
     "output_type": "execute_result"
    }
   ],
   "source": [
    "#Latihan List 2 Dimensi 2\n",
    "\n",
    "matrik[1]\n",
    "\n",
    "#pemanggilan baris urutan ke-yang diinginkan"
   ]
  },
  {
   "cell_type": "code",
   "execution_count": 3,
   "id": "6b13756f",
   "metadata": {},
   "outputs": [
    {
     "data": {
      "text/plain": [
       "3"
      ]
     },
     "execution_count": 3,
     "metadata": {},
     "output_type": "execute_result"
    }
   ],
   "source": [
    "#Latihan List 2 Dimensi 3\n",
    "\n",
    "matrik[1][2] \n",
    "\n",
    "#merupakan pemanggilan angka pada baris ke-1 dan kolom ke-2"
   ]
  },
  {
   "cell_type": "code",
   "execution_count": 4,
   "id": "ff200a50",
   "metadata": {},
   "outputs": [
    {
     "name": "stdout",
     "output_type": "stream",
     "text": [
      "100\n",
      "[[1, 2, 3], [3, 2, 100], [1, 3, 2]]\n"
     ]
    }
   ],
   "source": [
    "#Latihan List 2 Dimensi 4\n",
    "\n",
    "matrik[1][2]=100    \n",
    "print(matrik[1][2])\n",
    "print(matrik)\n",
    "\n",
    "#merupakan penggantian matrik pada baris ke-1 dan kolom ke-2 dengan 100"
   ]
  },
  {
   "cell_type": "code",
   "execution_count": 5,
   "id": "a1af6174",
   "metadata": {},
   "outputs": [
    {
     "data": {
      "text/plain": [
       "[[1, 2, 3], [3, 2, 100], [1, 3, 2]]"
      ]
     },
     "execution_count": 5,
     "metadata": {},
     "output_type": "execute_result"
    }
   ],
   "source": [
    "#Latihan List 2 Dimensi 5\n",
    "\n",
    "matrik\n",
    "\n",
    "#pemanggilan list matrik"
   ]
  },
  {
   "cell_type": "code",
   "execution_count": 6,
   "id": "18da48f2",
   "metadata": {},
   "outputs": [
    {
     "name": "stdout",
     "output_type": "stream",
     "text": [
      "[1, 2, 3]\n",
      "1\n",
      "2\n",
      "3\n",
      "[3, 2, 100]\n",
      "3\n",
      "2\n",
      "100\n",
      "[1, 3, 2]\n",
      "1\n",
      "3\n",
      "2\n"
     ]
    }
   ],
   "source": [
    "#Latihan List 2 Dimensi 6\n",
    "\n",
    "for baris in matrik:\n",
    "    print(baris)\n",
    "    for kolom in baris:\n",
    "        print(kolom)\n",
    "        \n",
    "#pemanggilan list pada matrik dapat dilakukan dengan for yaitu dengan sebagai berikut\n",
    "#dengan begitu list baris dan kolom pada matrik dapat diketahui"
   ]
  },
  {
   "cell_type": "code",
   "execution_count": 7,
   "id": "df84a427",
   "metadata": {},
   "outputs": [
    {
     "name": "stdout",
     "output_type": "stream",
     "text": [
      "[1, 2, 3]\n",
      "[3, 2, 100]\n",
      "[1, 3, 2]\n"
     ]
    }
   ],
   "source": [
    "for a in matrik:\n",
    "    print(a)\n",
    "    \n",
    "#variabel a dipakai untuk menyimpan isi dari element yang saat ini sedang diproses.\n",
    "#Nama variabel a sendiri boleh bebas, fungsinya hanya sebagai variabel bantu saja\n",
    "\n",
    "#Dalam format ini, kita mendefinisikan variabel matrik sebagai sebuah array atau himpunan \n",
    "#Perulangan for akan dijalankan sebanyak jumlah elemen yang ada di dalam variabel matrik."
   ]
  },
  {
   "cell_type": "markdown",
   "id": "0f81d7ae",
   "metadata": {},
   "source": [
    "# 5.17 Tuples\n",
    "Tuples mirip dengan list, akan tetapi tuples tidak dapat dirubah isinya. Jika kita memeiliki data yang tidak ingin dirubah isisnya, kita gunakan tupkes, sedangkan jika datanya masih ingin dimanipulasi kedepannya, gunakan list."
   ]
  },
  {
   "cell_type": "code",
   "execution_count": 8,
   "id": "e39a4ac4",
   "metadata": {
    "scrolled": true
   },
   "outputs": [],
   "source": [
    "angka = (6,7,4,5,8,9)\n",
    "\n",
    "#hal ini sama seperti diketahui\n",
    "#urutannya sama dengan yang lain, yaitu dimulai dari 0"
   ]
  },
  {
   "cell_type": "code",
   "execution_count": 9,
   "id": "bd470a88",
   "metadata": {},
   "outputs": [
    {
     "name": "stdout",
     "output_type": "stream",
     "text": [
      "6\n"
     ]
    }
   ],
   "source": [
    "#Latihan Tuples 1\n",
    "\n",
    "print (angka[0])\n",
    "\n",
    "#hal tersebut berarti pemanggilan list pada urutan ke- yang diinginkan"
   ]
  },
  {
   "cell_type": "code",
   "execution_count": 10,
   "id": "213d1a18",
   "metadata": {},
   "outputs": [
    {
     "name": "stdout",
     "output_type": "stream",
     "text": [
      "(6, 7, 4)\n"
     ]
    }
   ],
   "source": [
    "#Latihan Tuples 2\n",
    "\n",
    "print(angka[0:3])\n",
    "\n",
    "#[x,y] hal tersebut merupakan pemanggilan list dari urutan dari-x ke-y\n",
    "#yang urutannya dimulai dari 0"
   ]
  },
  {
   "cell_type": "code",
   "execution_count": 11,
   "id": "d3e1fd1a",
   "metadata": {},
   "outputs": [
    {
     "name": "stdout",
     "output_type": "stream",
     "text": [
      "6\n",
      "7\n",
      "4\n"
     ]
    }
   ],
   "source": [
    "#Latihan Tuples 3\n",
    "\n",
    "for isi in angka[0:3]:\n",
    "    print (isi)\n",
    "    \n",
    "#dapat dilakukan dengan mnggunakan for, akan tetapi outputnya adalah urutan list yang menurun"
   ]
  },
  {
   "cell_type": "code",
   "execution_count": 12,
   "id": "dffc79cc",
   "metadata": {},
   "outputs": [
    {
     "ename": "TypeError",
     "evalue": "'tuple' object does not support item assignment",
     "output_type": "error",
     "traceback": [
      "\u001b[1;31m---------------------------------------------------------------------------\u001b[0m",
      "\u001b[1;31mTypeError\u001b[0m                                 Traceback (most recent call last)",
      "\u001b[1;32m~\\AppData\\Local\\Temp\\ipykernel_18072\\1278860723.py\u001b[0m in \u001b[0;36m<module>\u001b[1;34m\u001b[0m\n\u001b[0;32m      1\u001b[0m \u001b[1;31m#Latihan Tuples 4\u001b[0m\u001b[1;33m\u001b[0m\u001b[1;33m\u001b[0m\u001b[0m\n\u001b[0;32m      2\u001b[0m \u001b[1;33m\u001b[0m\u001b[0m\n\u001b[1;32m----> 3\u001b[1;33m \u001b[0mangka\u001b[0m\u001b[1;33m[\u001b[0m\u001b[1;36m0\u001b[0m\u001b[1;33m]\u001b[0m \u001b[1;33m=\u001b[0m \u001b[1;36m10\u001b[0m\u001b[1;33m\u001b[0m\u001b[1;33m\u001b[0m\u001b[0m\n\u001b[0m\u001b[0;32m      4\u001b[0m \u001b[1;33m\u001b[0m\u001b[0m\n\u001b[0;32m      5\u001b[0m \u001b[1;31m#Program ini tidak bisa menjalankan perintah karena tuples tidak bisa direplace\u001b[0m\u001b[1;33m\u001b[0m\u001b[1;33m\u001b[0m\u001b[0m\n",
      "\u001b[1;31mTypeError\u001b[0m: 'tuple' object does not support item assignment"
     ]
    }
   ],
   "source": [
    "#Latihan Tuples 4\n",
    "\n",
    "angka[0] = 10\n",
    "\n",
    "#Program ini tidak bisa menjalankan perintah karena tuples tidak bisa direplace\n",
    "#sesuai dengan definisi, jika ingin menggunakan Tuples apabila kita memiliki data yang tidak inggin dirubah, jika ingin dirubah maka menggunakan list"
   ]
  },
  {
   "cell_type": "code",
   "execution_count": 13,
   "id": "2db45a4b",
   "metadata": {
    "scrolled": true
   },
   "outputs": [
    {
     "ename": "AttributeError",
     "evalue": "'tuple' object has no attribute 'append'",
     "output_type": "error",
     "traceback": [
      "\u001b[1;31m---------------------------------------------------------------------------\u001b[0m",
      "\u001b[1;31mAttributeError\u001b[0m                            Traceback (most recent call last)",
      "\u001b[1;32m~\\AppData\\Local\\Temp\\ipykernel_18072\\1395270764.py\u001b[0m in \u001b[0;36m<module>\u001b[1;34m\u001b[0m\n\u001b[0;32m      1\u001b[0m \u001b[1;31m#Latihan Tuples 5\u001b[0m\u001b[1;33m\u001b[0m\u001b[1;33m\u001b[0m\u001b[0m\n\u001b[0;32m      2\u001b[0m \u001b[1;33m\u001b[0m\u001b[0m\n\u001b[1;32m----> 3\u001b[1;33m \u001b[0mangka\u001b[0m\u001b[1;33m.\u001b[0m\u001b[0mappend\u001b[0m\u001b[1;33m(\u001b[0m\u001b[1;36m10\u001b[0m\u001b[1;33m)\u001b[0m\u001b[1;33m\u001b[0m\u001b[1;33m\u001b[0m\u001b[0m\n\u001b[0m\u001b[0;32m      4\u001b[0m \u001b[1;33m\u001b[0m\u001b[0m\n\u001b[0;32m      5\u001b[0m \u001b[1;31m#Append sebenarnya berfungsi untuk menambahkan anggota terakhir pada sebuah list\u001b[0m\u001b[1;33m\u001b[0m\u001b[1;33m\u001b[0m\u001b[0m\n",
      "\u001b[1;31mAttributeError\u001b[0m: 'tuple' object has no attribute 'append'"
     ]
    }
   ],
   "source": [
    "#Latihan Tuples 5\n",
    "\n",
    "angka.append(10)\n",
    "\n",
    "#Append sebenarnya berfungsi untuk menambahkan anggota terakhir pada sebuah list\n",
    "#Mengingat ini bukanlah list melainkan Tuples, maka 'append' tidak bisa bekerja pada program ini"
   ]
  },
  {
   "cell_type": "code",
   "execution_count": 14,
   "id": "525a4e7f",
   "metadata": {
    "scrolled": true
   },
   "outputs": [
    {
     "ename": "AttributeError",
     "evalue": "'tuple' object has no attribute 'remove'",
     "output_type": "error",
     "traceback": [
      "\u001b[1;31m---------------------------------------------------------------------------\u001b[0m",
      "\u001b[1;31mAttributeError\u001b[0m                            Traceback (most recent call last)",
      "\u001b[1;32m~\\AppData\\Local\\Temp\\ipykernel_18072\\704516296.py\u001b[0m in \u001b[0;36m<module>\u001b[1;34m\u001b[0m\n\u001b[0;32m      1\u001b[0m \u001b[1;31m#Latihan Tuples 6\u001b[0m\u001b[1;33m\u001b[0m\u001b[1;33m\u001b[0m\u001b[0m\n\u001b[0;32m      2\u001b[0m \u001b[1;33m\u001b[0m\u001b[0m\n\u001b[1;32m----> 3\u001b[1;33m \u001b[0mangka\u001b[0m\u001b[1;33m.\u001b[0m\u001b[0mremove\u001b[0m\u001b[1;33m(\u001b[0m\u001b[1;36m10\u001b[0m\u001b[1;33m)\u001b[0m\u001b[1;33m\u001b[0m\u001b[1;33m\u001b[0m\u001b[0m\n\u001b[0m\u001b[0;32m      4\u001b[0m \u001b[1;33m\u001b[0m\u001b[0m\n\u001b[0;32m      5\u001b[0m \u001b[1;31m#Remove pada program ini sebenarnya berfungsi untuk menghapus elemen '10' pada sebuah list\u001b[0m\u001b[1;33m\u001b[0m\u001b[1;33m\u001b[0m\u001b[0m\n",
      "\u001b[1;31mAttributeError\u001b[0m: 'tuple' object has no attribute 'remove'"
     ]
    }
   ],
   "source": [
    "#Latihan Tuples 6\n",
    "\n",
    "angka.remove(10)\n",
    "\n",
    "#Remove pada program ini sebenarnya berfungsi untuk menghapus elemen '10' pada sebuah list\n",
    "#Namun, karena program ini merupakan Tuples, maka perintah remove tidak bisa dijalankan "
   ]
  },
  {
   "cell_type": "code",
   "execution_count": 15,
   "id": "0b911acc",
   "metadata": {
    "scrolled": true
   },
   "outputs": [
    {
     "data": {
      "text/plain": [
       "0"
      ]
     },
     "execution_count": 15,
     "metadata": {},
     "output_type": "execute_result"
    }
   ],
   "source": [
    "#Latihan Tuples 7\n",
    "\n",
    "angka.count(1)\n",
    "\n",
    "#Count pada program ini berfungsi untuk menghitung jumlah angka 1 pada tuples 'angka'\n",
    "#Tidak adaa angka 1 pada Tuples 'angka'\n",
    "#Maka hasil dari program ini adalah 0"
   ]
  },
  {
   "cell_type": "code",
   "execution_count": 16,
   "id": "e07d556b",
   "metadata": {
    "scrolled": true
   },
   "outputs": [
    {
     "data": {
      "text/plain": [
       "2"
      ]
     },
     "execution_count": 16,
     "metadata": {},
     "output_type": "execute_result"
    }
   ],
   "source": [
    "#Latihan Tuples 8\n",
    "\n",
    "angka.index(4)\n",
    "\n",
    "#Fungsi index pada program ini adalah untuk mengetahui posisi elemen, pada kasus ini adalah elemen 4\n",
    "#Elemen angka 4 terletak pada urutan ke 2 dalam list 'angka'\n",
    "#Jadi hasil dari program ini adalah 2"
   ]
  },
  {
   "cell_type": "code",
   "execution_count": 17,
   "id": "8f50828b",
   "metadata": {},
   "outputs": [
    {
     "name": "stdout",
     "output_type": "stream",
     "text": [
      "3\n"
     ]
    }
   ],
   "source": [
    "#Latihan Tuples 8\n",
    "\n",
    "tup1 = (3,) \n",
    "print(tup1[0])\n",
    "\n",
    "#Jika elemen tuple hanya ada 1 elemen saja, tetap harus menuliskan ',' karena jika tidak program tidak dapat dijalankan"
   ]
  },
  {
   "cell_type": "code",
   "execution_count": 18,
   "id": "8c5078a0",
   "metadata": {},
   "outputs": [
    {
     "name": "stdout",
     "output_type": "stream",
     "text": [
      "(3, 5.6, 'fgh', 'xyz')\n"
     ]
    }
   ],
   "source": [
    "#Latihan Tuples 9\n",
    "\n",
    "tup1 = (3, 5.6)\n",
    "tup2 = ('fgh', 'xyz')\n",
    "tup3 = tup1 + tup2\n",
    "print (tup3)\n",
    "\n",
    "#Karena elemen pada tuples tidak bisa ditambahkan, maka bisa dengan menggabungkan antara elemen 1 dan elemen 2 \n",
    "#Kemudian kita mencetak elemen baru yang merupakangabungan dari 2 elemen sebelumnya "
   ]
  },
  {
   "cell_type": "markdown",
   "id": "67e70ae2",
   "metadata": {},
   "source": [
    "# Tambahan"
   ]
  },
  {
   "cell_type": "code",
   "execution_count": 19,
   "id": "c33c4796",
   "metadata": {},
   "outputs": [
    {
     "name": "stdout",
     "output_type": "stream",
     "text": [
      "[[ 1  2  3  4]\n",
      " [ 5  6  7  8]\n",
      " [ 9 10 11 12]]\n"
     ]
    }
   ],
   "source": [
    "import numpy as np\n",
    "d = np.array([[1,2,3,4],[5,6,7,8],[9,10,11,12]])\n",
    "print(d)\n",
    "\n",
    "#kita dapat melakukan rumus numpy dengan di awal "
   ]
  },
  {
   "cell_type": "code",
   "execution_count": 20,
   "id": "468661fe",
   "metadata": {},
   "outputs": [
    {
     "name": "stdout",
     "output_type": "stream",
     "text": [
      "[1, 2, 3]\n",
      "[3, 2, 100]\n",
      "[1, 3, 2]\n",
      "1\n",
      "3\n",
      "2\n"
     ]
    }
   ],
   "source": [
    "for baris in matrik:\n",
    "    print(baris)\n",
    "for kolom in baris:\n",
    "    print(kolom)\n",
    "        \n",
    "#hal ini berbeda dengan Latihan list 2 dimensi 6 karena didahulukan untuk for baris sehingga list bernilai false\n",
    "#kemudian output dari for kolom akan keluar hingga nilai for untuk kolom bernilai false"
   ]
  },
  {
   "cell_type": "markdown",
   "id": "23e9dc40",
   "metadata": {},
   "source": [
    "# 5.18 Dictionaries\n",
    "Dictionaries digunakan jika data nya terkait satu sama lain. Misalnya data\n",
    "seseorang yang terdiri dari umur, nama, tanggal lahir merupakan satu kesatuan\n",
    "data yang bersumber dari orang tersebut."
   ]
  },
  {
   "cell_type": "code",
   "execution_count": 21,
   "id": "c77314df",
   "metadata": {},
   "outputs": [],
   "source": [
    "#Latihan Dictionaries 1\n",
    "\n",
    "data_mahasiswa = {\n",
    "    #selalu awali dengan {\n",
    "    \"nama\" : \"aulia sari\",  #setiap nilai dipisahkan tanda koma\n",
    "    #Karena kumpulan nilai di dictionary menggunakan key dan value, maka setiap key dipisahkan dari value-nya dengan tanda titik dua \":\"\n",
    "    \"nim\"  : \"034\",         \n",
    "    \"apakah_lulus\" : True\n",
    "}\n",
    "#dan selalu diakhiri dengan } yang berarti program selesai"
   ]
  },
  {
   "cell_type": "code",
   "execution_count": 22,
   "id": "7dc06c2f",
   "metadata": {},
   "outputs": [
    {
     "name": "stdout",
     "output_type": "stream",
     "text": [
      "aulia sari\n"
     ]
    }
   ],
   "source": [
    "#Latihan Dictionaries 2\n",
    "\n",
    "print(data_mahasiswa['nama'])\n",
    "\n",
    "#hal ini berarti pemanggilan nama dari data_mahasiswa\n",
    "#dan selalu dengan penggunaan huruf kapital dan ejaan yang sesuai, dengan hal itu program bernilai true dan dapat dijalankan"
   ]
  },
  {
   "cell_type": "code",
   "execution_count": 23,
   "id": "b73b5d19",
   "metadata": {},
   "outputs": [
    {
     "ename": "KeyError",
     "evalue": "'Nama'",
     "output_type": "error",
     "traceback": [
      "\u001b[1;31m---------------------------------------------------------------------------\u001b[0m",
      "\u001b[1;31mKeyError\u001b[0m                                  Traceback (most recent call last)",
      "\u001b[1;32m~\\AppData\\Local\\Temp\\ipykernel_18072\\3198396622.py\u001b[0m in \u001b[0;36m<module>\u001b[1;34m\u001b[0m\n\u001b[0;32m      1\u001b[0m \u001b[1;31m#latihan Dictionaries 3\u001b[0m\u001b[1;33m\u001b[0m\u001b[1;33m\u001b[0m\u001b[0m\n\u001b[0;32m      2\u001b[0m \u001b[1;33m\u001b[0m\u001b[0m\n\u001b[1;32m----> 3\u001b[1;33m \u001b[0mprint\u001b[0m\u001b[1;33m(\u001b[0m\u001b[0mdata_mahasiswa\u001b[0m\u001b[1;33m[\u001b[0m\u001b[1;34m'Nama'\u001b[0m\u001b[1;33m]\u001b[0m\u001b[1;33m)\u001b[0m\u001b[1;33m\u001b[0m\u001b[1;33m\u001b[0m\u001b[0m\n\u001b[0m\u001b[0;32m      4\u001b[0m \u001b[1;33m\u001b[0m\u001b[0m\n\u001b[0;32m      5\u001b[0m \u001b[1;31m#hal ini berarti pemanggilan Nama dari data_mahasiswa\u001b[0m\u001b[1;33m\u001b[0m\u001b[1;33m\u001b[0m\u001b[0m\n",
      "\u001b[1;31mKeyError\u001b[0m: 'Nama'"
     ]
    }
   ],
   "source": [
    "#latihan Dictionaries 3\n",
    "\n",
    "print(data_mahasiswa['Nama'])\n",
    "\n",
    "#hal ini berarti pemanggilan Nama dari data_mahasiswa\n",
    "#dan selalu dengan penggunaan huruf kapital dan ejaan yang sesuai, dengan hal itu program bernilai true dan dapat dijalankan\n",
    "#jika kita memanggil hal sesuatu dengan huruf dan ejaan yang salah, maka program tidak dapat dijalankan karena program bernilai false"
   ]
  },
  {
   "cell_type": "code",
   "execution_count": 24,
   "id": "6d068db0",
   "metadata": {},
   "outputs": [
    {
     "name": "stdout",
     "output_type": "stream",
     "text": [
      "aulia sari\n"
     ]
    }
   ],
   "source": [
    "#latihan Dictionaries 4\n",
    "\n",
    "print(data_mahasiswa.get('nama'))\n",
    "\n",
    "#Program ini sebenarnya berfungsi sama seperti Latihan 1, namun yang membedakan adalah penggunaan 'get'\n",
    "#Kalau menggunakan get pakai (), sedangkan kalau tidak pakai menggunakan []\n",
    "#dan selalu dengan penggunaan huruf kapital dan ejaan yang sesuai, dengan hal itu program bernilai true dan dapat dijalankan"
   ]
  },
  {
   "cell_type": "code",
   "execution_count": 25,
   "id": "0528ec90",
   "metadata": {},
   "outputs": [
    {
     "name": "stdout",
     "output_type": "stream",
     "text": [
      "None\n"
     ]
    }
   ],
   "source": [
    "#latihan Dictionaries 5\n",
    "\n",
    "print(data_mahasiswa.get('Nama'))\n",
    "\n",
    "#Program ini sebenarnya berfungsi sama seperti Latihan 1, namun yang membedakan adalah penggunaan 'get'\n",
    "#Kalau menggunakan get pakai (), sedangkan kalau tidak pakai menggunakan []\n",
    "#dan selalu dengan penggunaan huruf kapital dan ejaan yang sesuai, dengan hal itu program bernilai true dan dapat dijalankan\n",
    "#jika kita memanggil hal sesuatu dengan huruf dan ejaan yang salah, maka output outputnya adalah None"
   ]
  },
  {
   "cell_type": "code",
   "execution_count": 26,
   "id": "84980ed7",
   "metadata": {},
   "outputs": [
    {
     "name": "stdout",
     "output_type": "stream",
     "text": [
      "None\n"
     ]
    }
   ],
   "source": [
    "#latihan Dictionaries 6\n",
    "\n",
    "print(data_mahasiswa.get('tanggal_lahir'))\n",
    "\n",
    "#tidak ditemukan karena memang tidak dicantumkan "
   ]
  },
  {
   "cell_type": "code",
   "execution_count": 27,
   "id": "e888a1f6",
   "metadata": {},
   "outputs": [
    {
     "name": "stdout",
     "output_type": "stream",
     "text": [
      "1-1-2005\n"
     ]
    }
   ],
   "source": [
    "#latihan Dictionaries 7\n",
    "\n",
    "print(data_mahasiswa.get('tanggal_lahir','1-1-2005'))\n",
    "\n",
    "#Program ini adalah untuk menambahkan data yang tidak didefinisikan"
   ]
  },
  {
   "cell_type": "code",
   "execution_count": 28,
   "id": "6193f42f",
   "metadata": {},
   "outputs": [
    {
     "name": "stdout",
     "output_type": "stream",
     "text": [
      "{'nama': 'aulia sari', 'nim': '034', 'apakah_lulus': True}\n"
     ]
    }
   ],
   "source": [
    "#latihan Dictionaries 8\n",
    "\n",
    "print(data_mahasiswa)\n",
    "\n",
    "#Pada program ini dibuktikan bahwa 'tanggal_lahir' yang sudah ditambahkan pada latihan Dictionaries 7 tidak permanen"
   ]
  },
  {
   "cell_type": "code",
   "execution_count": 29,
   "id": "e0146173",
   "metadata": {},
   "outputs": [
    {
     "ename": "KeyError",
     "evalue": "'tanggal_lahir'",
     "output_type": "error",
     "traceback": [
      "\u001b[1;31m---------------------------------------------------------------------------\u001b[0m",
      "\u001b[1;31mKeyError\u001b[0m                                  Traceback (most recent call last)",
      "\u001b[1;32m~\\AppData\\Local\\Temp\\ipykernel_18072\\1668199211.py\u001b[0m in \u001b[0;36m<module>\u001b[1;34m\u001b[0m\n\u001b[0;32m      1\u001b[0m \u001b[1;31m#latihan Dictionaries 9\u001b[0m\u001b[1;33m\u001b[0m\u001b[1;33m\u001b[0m\u001b[0m\n\u001b[0;32m      2\u001b[0m \u001b[1;33m\u001b[0m\u001b[0m\n\u001b[1;32m----> 3\u001b[1;33m \u001b[0mprint\u001b[0m\u001b[1;33m(\u001b[0m\u001b[0mdata_mahasiswa\u001b[0m\u001b[1;33m[\u001b[0m\u001b[1;34m\"tanggal_lahir\"\u001b[0m\u001b[1;33m]\u001b[0m\u001b[1;33m)\u001b[0m\u001b[1;33m\u001b[0m\u001b[1;33m\u001b[0m\u001b[0m\n\u001b[0m\u001b[0;32m      4\u001b[0m \u001b[1;33m\u001b[0m\u001b[0m\n\u001b[0;32m      5\u001b[0m \u001b[1;31m#Jika kita menggunakan kurung siku [], apabila definisi tidak ditemukan, dia tidak akan mengeluarkan hasil 'None', melainkan error\u001b[0m\u001b[1;33m\u001b[0m\u001b[1;33m\u001b[0m\u001b[0m\n",
      "\u001b[1;31mKeyError\u001b[0m: 'tanggal_lahir'"
     ]
    }
   ],
   "source": [
    "#latihan Dictionaries 9\n",
    "\n",
    "print(data_mahasiswa[\"tanggal_lahir\"])\n",
    "\n",
    "#Jika kita menggunakan kurung siku [], apabila definisi tidak ditemukan, dia tidak akan mengeluarkan hasil 'None', melainkan error"
   ]
  },
  {
   "cell_type": "code",
   "execution_count": 30,
   "id": "f2a70b47",
   "metadata": {},
   "outputs": [],
   "source": [
    "#latihan Dictionaries 10\n",
    "\n",
    "data_mahasiswa['instagram'] = 'aauliasari_'\n",
    "\n",
    "#Memasukkan data baru pada 'data_mahasiswa'"
   ]
  },
  {
   "cell_type": "code",
   "execution_count": 31,
   "id": "f154fbe5",
   "metadata": {},
   "outputs": [
    {
     "name": "stdout",
     "output_type": "stream",
     "text": [
      "aauliasari_\n"
     ]
    }
   ],
   "source": [
    "#latihan Dictionaries 11\n",
    "\n",
    "print(data_mahasiswa[\"instagram\"])"
   ]
  },
  {
   "cell_type": "code",
   "execution_count": 32,
   "id": "7c88f849",
   "metadata": {},
   "outputs": [
    {
     "name": "stdout",
     "output_type": "stream",
     "text": [
      "{'nama': 'aulia sari', 'nim': '034', 'apakah_lulus': True, 'instagram': 'aauliasari_'}\n"
     ]
    }
   ],
   "source": [
    "#latihan Dictionaries 12\n",
    "\n",
    "print(data_mahasiswa)\n",
    "\n",
    "#Dengan menggunakan program seperti ini, data akan berubah secara permanen\n",
    "#Sekarang, 'data_mahasiswa' akan berisi nama, umur, apakah_lulus, dan instagram"
   ]
  },
  {
   "cell_type": "code",
   "execution_count": 33,
   "id": "c315a693",
   "metadata": {},
   "outputs": [],
   "source": [
    "#latihan Dictionaries\n",
    "#buatlah program untuk merubah nomor HP yang tadinya angka menjadi sebutan bilangan tersebut. misalnya angka 0812 menjadi nol delapan satu dua\n",
    "#Jawaban\n",
    "angka ={\n",
    "    \"0\" : \"nol\",\n",
    "    \"1\" : \"satu\",\n",
    "    \"2\" : \"dua\",\n",
    "    \"3\" : \"tiga\",\n",
    "    \"4\" : \"empat\",\n",
    "    \"5\" : \"lima\",\n",
    "    \"6\" : \"enam\",\n",
    "    \"7\" : \"tujuh\",\n",
    "    \"8\" : \"delapan\",\n",
    "    \"9\" : \"sembilan\"\n",
    "}"
   ]
  },
  {
   "cell_type": "code",
   "execution_count": 35,
   "id": "32bd5f9a",
   "metadata": {},
   "outputs": [
    {
     "name": "stdout",
     "output_type": "stream",
     "text": [
      "Masukan nomor HP anda 08123456789\n",
      "nol delapan satu dua tiga empat lima enam tujuh delapan sembilan \n"
     ]
    }
   ],
   "source": [
    "nomor_HP = input(\"Masukan nomor HP anda \")\n",
    "nomor_angka = \"\"\n",
    "for isi in nomor_HP:\n",
    "    nomor_angka += angka.get(isi) + \" \"\n",
    "print(nomor_angka)"
   ]
  },
  {
   "cell_type": "markdown",
   "id": "dfdff9b0",
   "metadata": {},
   "source": [
    "# 5.19 Fungsi dalam Python\n",
    "Sampai sejauh ini tanpa disadari kita telah menerapkan beberapa jenis fungsi\n",
    "pada Python seperti fungsi input, print, len, range, dll. Pada dasarnya fungsi\n",
    "dibentuk untuk menghidari pengulangan pembuatan program secara manual\n",
    "dimana fungsi tersebut memiliki pengulangan yang tinggi dalam program yang\n",
    "kita buat. Jadi untuk mempermudah dan meringkas program yang kita buat,\n",
    "setiap fungsi tersebut dibutuhkan tinggal kita panggil."
   ]
  },
  {
   "cell_type": "code",
   "execution_count": 38,
   "id": "27fe50f9",
   "metadata": {},
   "outputs": [],
   "source": [
    "def full_nama(first_name,last_name):\n",
    "    print(f\"Nama lengkapnya adalah {first_name} {last_name}\")"
   ]
  },
  {
   "cell_type": "code",
   "execution_count": 39,
   "id": "8cb8b932",
   "metadata": {},
   "outputs": [
    {
     "name": "stdout",
     "output_type": "stream",
     "text": [
      "Nama depan anda adalah aulia\n",
      "Nama belakang anda adalah sari\n",
      "Nama lengkapnya adalah aulia sari\n"
     ]
    }
   ],
   "source": [
    "first_name = input(\"Nama depan anda adalah \")\n",
    "last_name = input(\"Nama belakang anda adalah \")\n",
    "full_nama(first_name,last_name)"
   ]
  },
  {
   "cell_type": "markdown",
   "id": "97bfaa08",
   "metadata": {},
   "source": [
    "# 5.19.1 Tugas Fungsi pada Python"
   ]
  },
  {
   "cell_type": "code",
   "execution_count": 40,
   "id": "ade8976f",
   "metadata": {},
   "outputs": [],
   "source": [
    "def waktu_sampai(jarak,kecepatan):\n",
    "    waktu = jarak/kecepatan\n",
    "    print(waktu)"
   ]
  },
  {
   "cell_type": "code",
   "execution_count": 41,
   "id": "ccb0dbb9",
   "metadata": {},
   "outputs": [],
   "source": [
    "def waktu_tempuh(jarak,kecepatan):\n",
    "    waktu = jarak/kecepatan\n",
    "    return waktu"
   ]
  },
  {
   "cell_type": "code",
   "execution_count": 42,
   "id": "18796a0f",
   "metadata": {},
   "outputs": [
    {
     "name": "stdout",
     "output_type": "stream",
     "text": [
      "1.3333333333333333\n"
     ]
    }
   ],
   "source": [
    "waktu_sampai(80,60)"
   ]
  },
  {
   "cell_type": "code",
   "execution_count": 43,
   "id": "e615f819",
   "metadata": {},
   "outputs": [
    {
     "data": {
      "text/plain": [
       "1.3333333333333333"
      ]
     },
     "execution_count": 43,
     "metadata": {},
     "output_type": "execute_result"
    }
   ],
   "source": [
    "waktu_tempuh(80,60)"
   ]
  },
  {
   "cell_type": "code",
   "execution_count": 44,
   "id": "96f74263",
   "metadata": {},
   "outputs": [
    {
     "name": "stdout",
     "output_type": "stream",
     "text": [
      "1.3333333333333333\n",
      "None\n"
     ]
    }
   ],
   "source": [
    "a = waktu_sampai(80,60)\n",
    "print(a)"
   ]
  },
  {
   "cell_type": "code",
   "execution_count": 45,
   "id": "d05f8209",
   "metadata": {},
   "outputs": [
    {
     "name": "stdout",
     "output_type": "stream",
     "text": [
      "1.3333333333333333\n"
     ]
    }
   ],
   "source": [
    "b = waktu_tempuh(80,60)\n",
    "print(b)"
   ]
  },
  {
   "cell_type": "code",
   "execution_count": 46,
   "id": "9888bc87",
   "metadata": {},
   "outputs": [],
   "source": [
    "#Latihan : buatlah program yang menggunakan fungsi Python untuk menghitung luas segitiga, lingkaran, persegi dan persegi panjang. selain itu berikan peringatan bagi bidang lain yang tidak termasuk perhitungan.\n",
    "#Jawaban\n",
    "\n",
    "import numpy as np\n",
    "\n",
    "def luas_segitiga(alas,tinggi):\n",
    "    luas = (1/2)*alas*tinggi\n",
    "    return luas\n",
    "def luas_lingkaran(jari_jari):\n",
    "    luas = np.pi*(jari_jari)**2\n",
    "    return luas\n",
    "def luar_persegi(sisi) :\n",
    "    luas = (sisi)**2\n",
    "    return luas\n",
    "def luas_persegi_panjang(panjang,lebar):\n",
    "    luas = panjang*lebar\n",
    "    return luas"
   ]
  },
  {
   "cell_type": "code",
   "execution_count": 47,
   "id": "b4a0f320",
   "metadata": {},
   "outputs": [
    {
     "name": "stdout",
     "output_type": "stream",
     "text": [
      "Tulis jenis bidangnya SEGITIGA\n",
      "Berapakah panjang alasnya? 36\n",
      "Berapakah tingginya? 6\n",
      "Luas SEGITIGA adalah 108.0\n"
     ]
    }
   ],
   "source": [
    "jenis_bidang = input(\"Tulis jenis bidangnya \")\n",
    "if jenis_bidang.upper() == 'SEGITIGA':\n",
    "    alas = float(input('Berapakah panjang alasnya? '))\n",
    "    tinggi =float(input('Berapakah tingginya? '))\n",
    "    luas = luas_segitiga(alas,tinggi)\n",
    "    print(f\"Luas {jenis_bidang} adalah {luas}\")\n",
    "elif jenis_bidang.upper() == 'LINGKARAN':\n",
    "    jari_jari = float(input('Berapakah panjang jari-jarinya? '))\n",
    "    luas = luas_lingkaran(jari_jari)\n",
    "    print(f\"Luas {jenis_bidang} adalah {luas}\")\n",
    "elif jenis_bidang.upper() == 'PERSEGI':\n",
    "    sisi = float(input('Berapakah panjang sisinya? '))\n",
    "    luas = luas_persegi(sisi)\n",
    "    print(f\"Luas {jenis_bidang} adalah {luas}\")\n",
    "elif jenis_bidang.upper() == 'PERSEGI PANJANG':\n",
    "    panjang = float(input('Berapakah panjangnya? '))\n",
    "    lebar =float(input('Berapakah lebarnya? '))\n",
    "    luas = luas_persegi_panjang(alas,tinggi)\n",
    "    print(f\"Luas {jenis_bidang} adalah {luas}\")\n",
    "else:\n",
    "    print(f\"Maaf bidang {jenis_bidang} yang anda masukkan tidak ada.\")\n",
    "    print(\"Pilihan cuma SEGITIGA, LINGKARAN, PERSEGI, dan PERSEGI PANJANG.\")\n",
    "    print('Terimakasih')"
   ]
  },
  {
   "cell_type": "markdown",
   "id": "f43f196f",
   "metadata": {},
   "source": [
    "# 5.20 Numpy\n",
    "Numpy merupakan salah satu Library dalam Python yang memiliki keunggulan\n",
    "dalam perhitungan menggunakan vektor dam matrik dalam berbagai dimensi."
   ]
  },
  {
   "cell_type": "code",
   "execution_count": 48,
   "id": "82e481d2",
   "metadata": {},
   "outputs": [],
   "source": [
    "#Hal pertama yang perlu dilakukan adalah memanggil Library Numpy sebagai berikut\n",
    "\n",
    "import pandas as pd\n",
    "import numpy as np"
   ]
  },
  {
   "cell_type": "markdown",
   "id": "5bb7ab43",
   "metadata": {},
   "source": [
    "# 5.20.1 Perintah Dasar pada Numpy\n"
   ]
  },
  {
   "cell_type": "code",
   "execution_count": 49,
   "id": "fcf62e06",
   "metadata": {},
   "outputs": [
    {
     "name": "stdout",
     "output_type": "stream",
     "text": [
      "[1 2 3 4]\n"
     ]
    }
   ],
   "source": [
    "import numpy as np\n",
    "#Pastikan untuk menuliskan perintah ini untuk memanggil library numpy\n",
    "a = np.array([1,2,3,4])\n",
    "print(a)\n",
    "\n",
    "#output yang akan keluar sama seperti list"
   ]
  },
  {
   "cell_type": "code",
   "execution_count": 50,
   "id": "36036c9e",
   "metadata": {},
   "outputs": [
    {
     "name": "stdout",
     "output_type": "stream",
     "text": [
      "[[5 6 7 8]\n",
      " [9 8 7 6]\n",
      " [7 8 9 6]]\n"
     ]
    }
   ],
   "source": [
    "import numpy as np\n",
    "b = np.array([[5,6,7,8],[9,8,7,6],[7,8,9,6]])\n",
    "print(b)\n",
    "\n",
    "#Apabila kita membuat 2 atau lebih array, maka akan dicetak secara vertikal"
   ]
  },
  {
   "cell_type": "code",
   "execution_count": 51,
   "id": "db96510b",
   "metadata": {},
   "outputs": [
    {
     "data": {
      "text/plain": [
       "1"
      ]
     },
     "execution_count": 51,
     "metadata": {},
     "output_type": "execute_result"
    }
   ],
   "source": [
    "a.ndim\n",
    "\n",
    "#Fungsi ndim adalah untuk mengetahui jumlah dimensi array Numpy"
   ]
  },
  {
   "cell_type": "code",
   "execution_count": 52,
   "id": "df32caef",
   "metadata": {},
   "outputs": [
    {
     "data": {
      "text/plain": [
       "2"
      ]
     },
     "execution_count": 52,
     "metadata": {},
     "output_type": "execute_result"
    }
   ],
   "source": [
    "b.ndim\n",
    "\n",
    "#Dimensi pada b adalah 2"
   ]
  },
  {
   "cell_type": "code",
   "execution_count": 53,
   "id": "49a6cd96",
   "metadata": {},
   "outputs": [
    {
     "data": {
      "text/plain": [
       "(4,)"
      ]
     },
     "execution_count": 53,
     "metadata": {},
     "output_type": "execute_result"
    }
   ],
   "source": [
    "a.shape\n",
    "\n",
    "#Pada fungsi shape menghasilkan sebuah tuple yang berisikan panjang sebuah array pada tiap dimensi.\n",
    "#Array d memiliki shape 4, yaitu panjang array pada 1-dimensi array."
   ]
  },
  {
   "cell_type": "code",
   "execution_count": 54,
   "id": "5066030f",
   "metadata": {},
   "outputs": [
    {
     "data": {
      "text/plain": [
       "(3, 4)"
      ]
     },
     "execution_count": 54,
     "metadata": {},
     "output_type": "execute_result"
    }
   ],
   "source": [
    "b.shape\n",
    "\n",
    "#Array c memiliki shape 4, yaitu panjang array pada 3-dimensi array."
   ]
  },
  {
   "cell_type": "markdown",
   "id": "64f51cf0",
   "metadata": {},
   "source": [
    "# 5.20.2 Memanggil Anggota, Kolom dan Baris dengan Numpy\n"
   ]
  },
  {
   "cell_type": "code",
   "execution_count": 55,
   "id": "5468d6ef",
   "metadata": {},
   "outputs": [
    {
     "name": "stdout",
     "output_type": "stream",
     "text": [
      "[[ 1  2  3  4]\n",
      " [ 5  6  7  8]\n",
      " [ 9 10 11 12]]\n"
     ]
    }
   ],
   "source": [
    "import numpy as np\n",
    "d = np.array([[1,2,3,4],[5,6,7,8],[9,10,11,12]])\n",
    "print(d)"
   ]
  },
  {
   "cell_type": "code",
   "execution_count": 56,
   "id": "eba2fc32",
   "metadata": {},
   "outputs": [
    {
     "data": {
      "text/plain": [
       "3"
      ]
     },
     "execution_count": 56,
     "metadata": {},
     "output_type": "execute_result"
    }
   ],
   "source": [
    "d[0,2]\n",
    "#[0,2], 0 melambangkan indeks ke 0 dari 2 indeks yang tersedia, indeks pertama dihitung 0\n",
    "#2 melambangkan elemen ke 2  dari indeks ke 0, karena dimulai dari 0 "
   ]
  },
  {
   "cell_type": "code",
   "execution_count": 57,
   "id": "12b3f43d",
   "metadata": {},
   "outputs": [
    {
     "data": {
      "text/plain": [
       "array([5, 6, 7, 8])"
      ]
     },
     "execution_count": 57,
     "metadata": {},
     "output_type": "execute_result"
    }
   ],
   "source": [
    "d[1,:]\n",
    "\n",
    "#Kode ini memuat perintah untuk mencetak indeks ke 1\n",
    "#Karena tidak dituliskan elemen ke berapa dari indeks yang ingin dicetak, maka semua elemen dicetak"
   ]
  },
  {
   "cell_type": "code",
   "execution_count": 58,
   "id": "19831bbe",
   "metadata": {},
   "outputs": [
    {
     "data": {
      "text/plain": [
       "array([ 3,  7, 11])"
      ]
     },
     "execution_count": 58,
     "metadata": {},
     "output_type": "execute_result"
    }
   ],
   "source": [
    "d[:,2]\n",
    "\n",
    "#Kode ini memuat perintah untuk mencetak elemen ke 2 pada semua indeks"
   ]
  },
  {
   "cell_type": "code",
   "execution_count": 59,
   "id": "2142b362",
   "metadata": {},
   "outputs": [
    {
     "data": {
      "text/plain": [
       "array([2])"
      ]
     },
     "execution_count": 59,
     "metadata": {},
     "output_type": "execute_result"
    }
   ],
   "source": [
    "d[0,1:2]\n",
    "\n",
    "#Kode ini untuk mencetak indeks ke 0\n",
    "#[1:2] artinya yaitu cetak elemen ke 1 sampai 2"
   ]
  },
  {
   "cell_type": "code",
   "execution_count": 60,
   "id": "25752e07",
   "metadata": {},
   "outputs": [
    {
     "data": {
      "text/plain": [
       "array([1])"
      ]
     },
     "execution_count": 60,
     "metadata": {},
     "output_type": "execute_result"
    }
   ],
   "source": [
    "d[0,0:1:2]\n",
    "\n",
    "#Program ini untuk mencetak indeks ke 0\n",
    "#Elemen dari indeks ke 0 ini dicetak dari elemen ke 0 sampai sebelum elemen ke 2 \n",
    "#Dengan loncatan sebanyak 2 kali"
   ]
  },
  {
   "cell_type": "code",
   "execution_count": 61,
   "id": "24660db7",
   "metadata": {},
   "outputs": [
    {
     "name": "stdout",
     "output_type": "stream",
     "text": [
      "[[50  2  3  4]\n",
      " [ 5  6  7  8]\n",
      " [ 9 10 11 12]]\n"
     ]
    }
   ],
   "source": [
    "d[0,0] =  50\n",
    "print(d)\n",
    "\n",
    "#Program ini adalah untuk mengganti indeks ke 0 dan elemen ke 0 dengan angka 50"
   ]
  },
  {
   "cell_type": "markdown",
   "id": "f6280afe",
   "metadata": {},
   "source": [
    "# 5.20.3 Matrix pada Numpy"
   ]
  },
  {
   "cell_type": "code",
   "execution_count": 62,
   "id": "e2033a9e",
   "metadata": {},
   "outputs": [
    {
     "data": {
      "text/plain": [
       "array([[1., 1., 1.],\n",
       "       [1., 1., 1.]])"
      ]
     },
     "execution_count": 62,
     "metadata": {},
     "output_type": "execute_result"
    }
   ],
   "source": [
    "np.ones((2,3))\n",
    "#Mencetak matrix 2x3 dengan elemennya adalah 1"
   ]
  },
  {
   "cell_type": "code",
   "execution_count": 63,
   "id": "58215a65",
   "metadata": {},
   "outputs": [
    {
     "data": {
      "text/plain": [
       "array([[0., 0.],\n",
       "       [0., 0.]])"
      ]
     },
     "execution_count": 63,
     "metadata": {},
     "output_type": "execute_result"
    }
   ],
   "source": [
    "np.zeros((2,2))\n",
    "#Mencetak matrix 2x2 dengan elemennya adalah 0"
   ]
  },
  {
   "cell_type": "code",
   "execution_count": 64,
   "id": "eb2a9f4a",
   "metadata": {},
   "outputs": [
    {
     "data": {
      "text/plain": [
       "array([[1., 0., 0., 0., 0., 0.],\n",
       "       [0., 1., 0., 0., 0., 0.],\n",
       "       [0., 0., 1., 0., 0., 0.],\n",
       "       [0., 0., 0., 1., 0., 0.],\n",
       "       [0., 0., 0., 0., 1., 0.],\n",
       "       [0., 0., 0., 0., 0., 1.]])"
      ]
     },
     "execution_count": 64,
     "metadata": {},
     "output_type": "execute_result"
    }
   ],
   "source": [
    "np.identity(6)\n",
    "#Mencetak matrix identitas dengan ukuran 6x6"
   ]
  },
  {
   "cell_type": "code",
   "execution_count": 65,
   "id": "c5e8d0d4",
   "metadata": {},
   "outputs": [
    {
     "data": {
      "text/plain": [
       "array([[[1., 1., 1., 1.],\n",
       "        [1., 1., 1., 1.],\n",
       "        [1., 1., 1., 1.]],\n",
       "\n",
       "       [[1., 1., 1., 1.],\n",
       "        [1., 1., 1., 1.],\n",
       "        [1., 1., 1., 1.]],\n",
       "\n",
       "       [[1., 1., 1., 1.],\n",
       "        [1., 1., 1., 1.],\n",
       "        [1., 1., 1., 1.]],\n",
       "\n",
       "       [[1., 1., 1., 1.],\n",
       "        [1., 1., 1., 1.],\n",
       "        [1., 1., 1., 1.]],\n",
       "\n",
       "       [[1., 1., 1., 1.],\n",
       "        [1., 1., 1., 1.],\n",
       "        [1., 1., 1., 1.]],\n",
       "\n",
       "       [[1., 1., 1., 1.],\n",
       "        [1., 1., 1., 1.],\n",
       "        [1., 1., 1., 1.]],\n",
       "\n",
       "       [[1., 1., 1., 1.],\n",
       "        [1., 1., 1., 1.],\n",
       "        [1., 1., 1., 1.]]])"
      ]
     },
     "execution_count": 65,
     "metadata": {},
     "output_type": "execute_result"
    }
   ],
   "source": [
    "np.ones((7,3,4))\n",
    "#Mencetak 7 buah matrix ukuran 3x4 dengan 1 sebagai semua elemennya"
   ]
  },
  {
   "cell_type": "code",
   "execution_count": 66,
   "id": "acc876f5",
   "metadata": {},
   "outputs": [
    {
     "data": {
      "text/plain": [
       "array([[9, 9],\n",
       "       [9, 9],\n",
       "       [9, 9]])"
      ]
     },
     "execution_count": 66,
     "metadata": {},
     "output_type": "execute_result"
    }
   ],
   "source": [
    "np.full((3,2),9)\n",
    "#Untuk mencetak matrix berukuran 3x2 dengan 9 sebagai semua elemennya"
   ]
  },
  {
   "cell_type": "code",
   "execution_count": 67,
   "id": "7e3abf4f",
   "metadata": {},
   "outputs": [
    {
     "data": {
      "text/plain": [
       "array([[0.92070586, 0.22646186, 0.27129385],\n",
       "       [0.04980346, 0.38593586, 0.73047107],\n",
       "       [0.92137627, 0.71924062, 0.86988728],\n",
       "       [0.02767785, 0.30127809, 0.18828439]])"
      ]
     },
     "execution_count": 67,
     "metadata": {},
     "output_type": "execute_result"
    }
   ],
   "source": [
    "np.random.rand(4,3)\n",
    "#Untuk mencetak matrix berukuran 4x3 \n",
    "#Metode rand() pada modul random mengembalikan float acak antara 0 dan 1."
   ]
  },
  {
   "cell_type": "code",
   "execution_count": 68,
   "id": "25f484c8",
   "metadata": {},
   "outputs": [
    {
     "data": {
      "text/plain": [
       "array([[3, 4, 6, 3],\n",
       "       [6, 2, 5, 5],\n",
       "       [6, 3, 4, 8]])"
      ]
     },
     "execution_count": 68,
     "metadata": {},
     "output_type": "execute_result"
    }
   ],
   "source": [
    "np.random.randint(1,10,size=(3,4))\n",
    "#Mencetak matrix ukuran 3x4 dengan elemen-elemennya terdiri dari bilangan 1 sampai 10"
   ]
  },
  {
   "cell_type": "code",
   "execution_count": 69,
   "id": "31040b13",
   "metadata": {},
   "outputs": [
    {
     "name": "stdout",
     "output_type": "stream",
     "text": [
      "[[0. 0. 0. 0. 0. 0. 0. 0. 0. 0.]\n",
      " [0. 0. 0. 0. 0. 0. 0. 0. 0. 0.]\n",
      " [0. 0. 0. 0. 0. 0. 0. 0. 0. 0.]\n",
      " [0. 0. 0. 0. 0. 0. 0. 0. 0. 0.]\n",
      " [0. 0. 0. 0. 0. 0. 0. 0. 0. 0.]\n",
      " [0. 0. 0. 0. 0. 0. 0. 0. 0. 0.]\n",
      " [0. 0. 0. 0. 0. 0. 0. 0. 0. 0.]\n",
      " [0. 0. 0. 0. 0. 0. 0. 0. 0. 0.]\n",
      " [0. 0. 0. 0. 0. 0. 0. 0. 0. 0.]\n",
      " [0. 0. 0. 0. 0. 0. 0. 0. 0. 0.]]\n"
     ]
    }
   ],
   "source": [
    "a = np.zeros((10,10))\n",
    "print(a)"
   ]
  },
  {
   "cell_type": "code",
   "execution_count": 70,
   "id": "e241d29b",
   "metadata": {},
   "outputs": [
    {
     "name": "stdout",
     "output_type": "stream",
     "text": [
      "[[1. 0. 0. 0. 0. 0. 0. 0. 0.]\n",
      " [0. 1. 0. 0. 0. 0. 0. 0. 0.]\n",
      " [0. 0. 1. 0. 0. 0. 0. 0. 0.]\n",
      " [0. 0. 0. 1. 0. 0. 0. 0. 0.]\n",
      " [0. 0. 0. 0. 1. 0. 0. 0. 0.]\n",
      " [0. 0. 0. 0. 0. 1. 0. 0. 0.]\n",
      " [0. 0. 0. 0. 0. 0. 1. 0. 0.]\n",
      " [0. 0. 0. 0. 0. 0. 0. 1. 0.]\n",
      " [0. 0. 0. 0. 0. 0. 0. 0. 1.]]\n"
     ]
    }
   ],
   "source": [
    "b=np.identity(9)\n",
    "print(b)"
   ]
  },
  {
   "cell_type": "code",
   "execution_count": 71,
   "id": "46920e95",
   "metadata": {},
   "outputs": [
    {
     "name": "stdout",
     "output_type": "stream",
     "text": [
      "[[8. 0. 0. 0. 0. 0. 0. 0. 0.]\n",
      " [0. 8. 0. 0. 0. 0. 0. 0. 0.]\n",
      " [0. 0. 8. 0. 0. 0. 0. 0. 0.]\n",
      " [0. 0. 0. 8. 0. 0. 0. 0. 0.]\n",
      " [0. 0. 0. 0. 8. 0. 0. 0. 0.]\n",
      " [0. 0. 0. 0. 0. 8. 0. 0. 0.]\n",
      " [0. 0. 0. 0. 0. 0. 8. 0. 0.]\n",
      " [0. 0. 0. 0. 0. 0. 0. 8. 0.]\n",
      " [0. 0. 0. 0. 0. 0. 0. 0. 8.]]\n"
     ]
    }
   ],
   "source": [
    "c=8*b\n",
    "print(c)"
   ]
  },
  {
   "cell_type": "code",
   "execution_count": 72,
   "id": "5d55bf48",
   "metadata": {},
   "outputs": [
    {
     "name": "stdout",
     "output_type": "stream",
     "text": [
      "[[9. 1. 1. 1. 1. 1. 1. 1.]\n",
      " [1. 9. 1. 1. 1. 1. 1. 1.]\n",
      " [1. 1. 9. 1. 1. 1. 1. 1.]\n",
      " [1. 1. 1. 9. 1. 1. 1. 1.]\n",
      " [1. 1. 1. 1. 9. 1. 1. 1.]\n",
      " [1. 1. 1. 1. 1. 9. 1. 1.]\n",
      " [1. 1. 1. 1. 1. 1. 9. 1.]\n",
      " [1. 1. 1. 1. 1. 1. 1. 9.]]\n"
     ]
    }
   ],
   "source": [
    "d=np.ones((8,8))\n",
    "e=np.identity(8)*8\n",
    "f=d+e\n",
    "print(f)"
   ]
  },
  {
   "cell_type": "code",
   "execution_count": 73,
   "id": "5ab4da29",
   "metadata": {},
   "outputs": [
    {
     "ename": "ValueError",
     "evalue": "could not broadcast input array from shape (8,8) into shape (7,7)",
     "output_type": "error",
     "traceback": [
      "\u001b[1;31m---------------------------------------------------------------------------\u001b[0m",
      "\u001b[1;31mValueError\u001b[0m                                Traceback (most recent call last)",
      "\u001b[1;32m~\\AppData\\Local\\Temp\\ipykernel_18072\\1216822207.py\u001b[0m in \u001b[0;36m<module>\u001b[1;34m\u001b[0m\n\u001b[1;32m----> 1\u001b[1;33m \u001b[0mc\u001b[0m\u001b[1;33m[\u001b[0m\u001b[1;36m1\u001b[0m\u001b[1;33m:\u001b[0m\u001b[1;33m-\u001b[0m\u001b[1;36m1\u001b[0m\u001b[1;33m,\u001b[0m\u001b[1;36m1\u001b[0m\u001b[1;33m:\u001b[0m\u001b[1;33m-\u001b[0m\u001b[1;36m1\u001b[0m\u001b[1;33m]\u001b[0m \u001b[1;33m=\u001b[0m \u001b[0mf\u001b[0m\u001b[1;33m\u001b[0m\u001b[1;33m\u001b[0m\u001b[0m\n\u001b[0m\u001b[0;32m      2\u001b[0m \u001b[0mprint\u001b[0m\u001b[1;33m(\u001b[0m\u001b[0mc\u001b[0m\u001b[1;33m)\u001b[0m\u001b[1;33m\u001b[0m\u001b[1;33m\u001b[0m\u001b[0m\n",
      "\u001b[1;31mValueError\u001b[0m: could not broadcast input array from shape (8,8) into shape (7,7)"
     ]
    }
   ],
   "source": [
    "c[1:-1,1:-1] = f\n",
    "print(c)"
   ]
  },
  {
   "cell_type": "code",
   "execution_count": 74,
   "id": "114d69f9",
   "metadata": {},
   "outputs": [
    {
     "ename": "ValueError",
     "evalue": "could not broadcast input array from shape (6,6) into shape (5,5)",
     "output_type": "error",
     "traceback": [
      "\u001b[1;31m---------------------------------------------------------------------------\u001b[0m",
      "\u001b[1;31mValueError\u001b[0m                                Traceback (most recent call last)",
      "\u001b[1;32m~\\AppData\\Local\\Temp\\ipykernel_18072\\4246189214.py\u001b[0m in \u001b[0;36m<module>\u001b[1;34m\u001b[0m\n\u001b[0;32m      1\u001b[0m \u001b[0mg\u001b[0m \u001b[1;33m=\u001b[0m \u001b[0mnp\u001b[0m\u001b[1;33m.\u001b[0m\u001b[0midentity\u001b[0m\u001b[1;33m(\u001b[0m\u001b[1;36m6\u001b[0m\u001b[1;33m)\u001b[0m\u001b[1;33m*\u001b[0m\u001b[1;36m9\u001b[0m\u001b[1;33m\u001b[0m\u001b[1;33m\u001b[0m\u001b[0m\n\u001b[1;32m----> 2\u001b[1;33m \u001b[0mc\u001b[0m\u001b[1;33m[\u001b[0m\u001b[1;36m2\u001b[0m\u001b[1;33m:\u001b[0m\u001b[1;33m-\u001b[0m\u001b[1;36m2\u001b[0m\u001b[1;33m,\u001b[0m\u001b[1;36m2\u001b[0m\u001b[1;33m:\u001b[0m\u001b[1;33m-\u001b[0m\u001b[1;36m2\u001b[0m\u001b[1;33m]\u001b[0m \u001b[1;33m=\u001b[0m \u001b[0mg\u001b[0m\u001b[1;33m\u001b[0m\u001b[1;33m\u001b[0m\u001b[0m\n\u001b[0m\u001b[0;32m      3\u001b[0m \u001b[0mprint\u001b[0m\u001b[1;33m(\u001b[0m\u001b[0mc\u001b[0m\u001b[1;33m)\u001b[0m\u001b[1;33m\u001b[0m\u001b[1;33m\u001b[0m\u001b[0m\n",
      "\u001b[1;31mValueError\u001b[0m: could not broadcast input array from shape (6,6) into shape (5,5)"
     ]
    }
   ],
   "source": [
    "g = np.identity(6)*9\n",
    "c[2:-2,2:-2] = g\n",
    "print(c)"
   ]
  },
  {
   "cell_type": "code",
   "execution_count": 75,
   "id": "090341e8",
   "metadata": {},
   "outputs": [
    {
     "ename": "SyntaxError",
     "evalue": "cannot assign to function call (3758992802.py, line 2)",
     "output_type": "error",
     "traceback": [
      "\u001b[1;36m  File \u001b[1;32m\"C:\\Users\\ASUS\\AppData\\Local\\Temp\\ipykernel_18072\\3758992802.py\"\u001b[1;36m, line \u001b[1;32m2\u001b[0m\n\u001b[1;33m    i = np.identity(4)=7\u001b[0m\n\u001b[1;37m        ^\u001b[0m\n\u001b[1;31mSyntaxError\u001b[0m\u001b[1;31m:\u001b[0m cannot assign to function call\n"
     ]
    }
   ],
   "source": [
    "h = np.ones((4,4))*2\n",
    "i = np.identity(4)=7\n",
    "j = h+i\n",
    "print(j)"
   ]
  },
  {
   "cell_type": "code",
   "execution_count": 76,
   "id": "07df1a86",
   "metadata": {},
   "outputs": [
    {
     "ename": "NameError",
     "evalue": "name 'j' is not defined",
     "output_type": "error",
     "traceback": [
      "\u001b[1;31m---------------------------------------------------------------------------\u001b[0m",
      "\u001b[1;31mNameError\u001b[0m                                 Traceback (most recent call last)",
      "\u001b[1;32m~\\AppData\\Local\\Temp\\ipykernel_18072\\518513297.py\u001b[0m in \u001b[0;36m<module>\u001b[1;34m\u001b[0m\n\u001b[1;32m----> 1\u001b[1;33m \u001b[0mc\u001b[0m\u001b[1;33m[\u001b[0m\u001b[1;36m3\u001b[0m\u001b[1;33m:\u001b[0m\u001b[1;33m-\u001b[0m\u001b[1;36m3\u001b[0m\u001b[1;33m,\u001b[0m\u001b[1;36m3\u001b[0m\u001b[1;33m:\u001b[0m\u001b[1;33m-\u001b[0m\u001b[1;36m3\u001b[0m\u001b[1;33m]\u001b[0m \u001b[1;33m=\u001b[0m \u001b[0mj\u001b[0m\u001b[1;33m\u001b[0m\u001b[1;33m\u001b[0m\u001b[0m\n\u001b[0m\u001b[0;32m      2\u001b[0m \u001b[0mprint\u001b[0m\u001b[1;33m(\u001b[0m\u001b[0mc\u001b[0m\u001b[1;33m)\u001b[0m\u001b[1;33m\u001b[0m\u001b[1;33m\u001b[0m\u001b[0m\n",
      "\u001b[1;31mNameError\u001b[0m: name 'j' is not defined"
     ]
    }
   ],
   "source": [
    "c[3:-3,3:-3] = j\n",
    "print(c)"
   ]
  },
  {
   "cell_type": "code",
   "execution_count": 77,
   "id": "b860678a",
   "metadata": {},
   "outputs": [
    {
     "ename": "ValueError",
     "evalue": "could not broadcast input array from shape (2,2) into shape (1,1)",
     "output_type": "error",
     "traceback": [
      "\u001b[1;31m---------------------------------------------------------------------------\u001b[0m",
      "\u001b[1;31mValueError\u001b[0m                                Traceback (most recent call last)",
      "\u001b[1;32m~\\AppData\\Local\\Temp\\ipykernel_18072\\1216234939.py\u001b[0m in \u001b[0;36m<module>\u001b[1;34m\u001b[0m\n\u001b[0;32m      1\u001b[0m \u001b[0mk\u001b[0m \u001b[1;33m=\u001b[0m \u001b[0mnp\u001b[0m\u001b[1;33m.\u001b[0m\u001b[0midentity\u001b[0m\u001b[1;33m(\u001b[0m\u001b[1;36m2\u001b[0m\u001b[1;33m)\u001b[0m\u001b[1;33m*\u001b[0m\u001b[1;36m9\u001b[0m\u001b[1;33m\u001b[0m\u001b[1;33m\u001b[0m\u001b[0m\n\u001b[1;32m----> 2\u001b[1;33m \u001b[0mc\u001b[0m\u001b[1;33m[\u001b[0m\u001b[1;36m4\u001b[0m\u001b[1;33m:\u001b[0m\u001b[1;33m-\u001b[0m\u001b[1;36m4\u001b[0m\u001b[1;33m,\u001b[0m\u001b[1;36m4\u001b[0m\u001b[1;33m:\u001b[0m\u001b[1;33m-\u001b[0m\u001b[1;36m4\u001b[0m\u001b[1;33m]\u001b[0m \u001b[1;33m=\u001b[0m \u001b[0mk\u001b[0m\u001b[1;33m\u001b[0m\u001b[1;33m\u001b[0m\u001b[0m\n\u001b[0m\u001b[0;32m      3\u001b[0m \u001b[0mprint\u001b[0m\u001b[1;33m(\u001b[0m\u001b[0mc\u001b[0m\u001b[1;33m)\u001b[0m\u001b[1;33m\u001b[0m\u001b[1;33m\u001b[0m\u001b[0m\n",
      "\u001b[1;31mValueError\u001b[0m: could not broadcast input array from shape (2,2) into shape (1,1)"
     ]
    }
   ],
   "source": [
    "k = np.identity(2)*9\n",
    "c[4:-4,4:-4] = k\n",
    "print(c)"
   ]
  },
  {
   "cell_type": "markdown",
   "id": "32f56329",
   "metadata": {},
   "source": [
    "# 5.20.4 Copy pada Numpy"
   ]
  },
  {
   "cell_type": "code",
   "execution_count": 78,
   "id": "b8cde618",
   "metadata": {},
   "outputs": [
    {
     "name": "stdout",
     "output_type": "stream",
     "text": [
      "[1 2 3 4 5]\n"
     ]
    }
   ],
   "source": [
    "a= np.array([1,2,3,4,5])\n",
    "print(a)\n",
    "\n",
    "#Program ini adalah untuk mencetak anggota dari array a yaitu 1,2,3,4,5"
   ]
  },
  {
   "cell_type": "code",
   "execution_count": 79,
   "id": "c5368eef",
   "metadata": {},
   "outputs": [
    {
     "name": "stdout",
     "output_type": "stream",
     "text": [
      "[1 2 3 4 5]\n"
     ]
    }
   ],
   "source": [
    "b = a\n",
    "print(b)\n",
    "\n",
    "#Program ini adalah untuk membuat elemen dari array b adalah sama persis dengan array a"
   ]
  },
  {
   "cell_type": "code",
   "execution_count": 80,
   "id": "d2547668",
   "metadata": {},
   "outputs": [
    {
     "name": "stdout",
     "output_type": "stream",
     "text": [
      "[10  2  3  4  5]\n"
     ]
    }
   ],
   "source": [
    "b[0] = 10\n",
    "print(b)\n",
    "\n",
    "#urutan dimulai dari 0\n",
    "#Program ini adalah untuk mengganti elemen ke 0 yang tadinya adalah angka 1 menjadi angka 10"
   ]
  },
  {
   "cell_type": "code",
   "execution_count": 81,
   "id": "27a3b5da",
   "metadata": {},
   "outputs": [
    {
     "name": "stdout",
     "output_type": "stream",
     "text": [
      "[10  2  3  4  5]\n"
     ]
    }
   ],
   "source": [
    "print(a)\n",
    "\n",
    "#Karena tadi kita sudah mengganti elemen ke 0 dengan 10, jadi elemen dari array a menjadi 10,2,3,4,5"
   ]
  },
  {
   "cell_type": "code",
   "execution_count": 82,
   "id": "660f3717",
   "metadata": {},
   "outputs": [],
   "source": [
    "c = np.array([1,2,3,4,5])\n",
    "\n",
    "\n",
    "#Kita definisikan array c dengan elemennya adalah 1,2,3,4,5"
   ]
  },
  {
   "cell_type": "code",
   "execution_count": 83,
   "id": "2bd83467",
   "metadata": {},
   "outputs": [
    {
     "name": "stdout",
     "output_type": "stream",
     "text": [
      "[1 2 3 4 5]\n"
     ]
    }
   ],
   "source": [
    "d = c.copy()\n",
    "print(d)\n",
    "\n",
    "#Terdapat cara lain untuk mengcopy sebuah array supaya identik dengan array yang baru\n",
    "#Contohnya adalah cara ini"
   ]
  },
  {
   "cell_type": "code",
   "execution_count": 84,
   "id": "8e1fd2cf",
   "metadata": {},
   "outputs": [
    {
     "name": "stdout",
     "output_type": "stream",
     "text": [
      "[30  2  3  4  5]\n"
     ]
    }
   ],
   "source": [
    "d[0] = 30\n",
    "print(d)\n",
    "\n",
    "#Karena kita mengganti elemen ke 0 pada array d"
   ]
  },
  {
   "cell_type": "code",
   "execution_count": 85,
   "id": "764ad37c",
   "metadata": {},
   "outputs": [
    {
     "name": "stdout",
     "output_type": "stream",
     "text": [
      "[1 2 3 4 5]\n"
     ]
    }
   ],
   "source": [
    "print(c)\n",
    "\n",
    "#Karena kita tidak pernah merubah elemen dari array c, maka elemen-elemen dari array c tetap sama "
   ]
  },
  {
   "cell_type": "markdown",
   "id": "85fc26a9",
   "metadata": {},
   "source": [
    "# 5.20.5 Operasi Matematika pada Numpy"
   ]
  },
  {
   "cell_type": "code",
   "execution_count": 86,
   "id": "ee532a6c",
   "metadata": {},
   "outputs": [],
   "source": [
    "a = np.array([5,6,7,8,9])"
   ]
  },
  {
   "cell_type": "code",
   "execution_count": 87,
   "id": "62159a66",
   "metadata": {},
   "outputs": [
    {
     "data": {
      "text/plain": [
       "array([ 9, 10, 11, 12, 13])"
      ]
     },
     "execution_count": 87,
     "metadata": {},
     "output_type": "execute_result"
    }
   ],
   "source": [
    "a+4\n",
    "\n",
    "#Program ini memerintahkan setiap elemen dari array a dijumlahkan 4"
   ]
  },
  {
   "cell_type": "code",
   "execution_count": 88,
   "id": "ea770abe",
   "metadata": {},
   "outputs": [
    {
     "data": {
      "text/plain": [
       "array([-1,  0,  1,  2,  3])"
      ]
     },
     "execution_count": 88,
     "metadata": {},
     "output_type": "execute_result"
    }
   ],
   "source": [
    "a-6\n",
    "\n",
    "#Program ini memerintahkan bahwa setiap elemen dari a harus dikurangi dengan 6"
   ]
  },
  {
   "cell_type": "code",
   "execution_count": 89,
   "id": "223ab92d",
   "metadata": {},
   "outputs": [
    {
     "data": {
      "text/plain": [
       "array([10, 12, 14, 16, 18])"
      ]
     },
     "execution_count": 89,
     "metadata": {},
     "output_type": "execute_result"
    }
   ],
   "source": [
    "a*2\n",
    "\n",
    "#Program ini memerintahkan bahwa setiap elemen dari a harus dikalikan dengan 2"
   ]
  },
  {
   "cell_type": "code",
   "execution_count": 90,
   "id": "0c42e4be",
   "metadata": {},
   "outputs": [
    {
     "data": {
      "text/plain": [
       "array([2.5, 3. , 3.5, 4. , 4.5])"
      ]
     },
     "execution_count": 90,
     "metadata": {},
     "output_type": "execute_result"
    }
   ],
   "source": [
    "a/2\n",
    "\n",
    "#Program ini untuk memuat perintah bahwa setiap elemen dari array a harus dibagi dengan 2"
   ]
  },
  {
   "cell_type": "code",
   "execution_count": 91,
   "id": "69422645",
   "metadata": {},
   "outputs": [
    {
     "data": {
      "text/plain": [
       "array([25, 36, 49, 64, 81], dtype=int32)"
      ]
     },
     "execution_count": 91,
     "metadata": {},
     "output_type": "execute_result"
    }
   ],
   "source": [
    "a**2\n",
    "\n",
    "#Program ini adalah untuk memuat perintah bahwa setiap elemen dari array a harus dipangkatkan 2"
   ]
  },
  {
   "cell_type": "code",
   "execution_count": 92,
   "id": "45b81efa",
   "metadata": {},
   "outputs": [],
   "source": [
    "b = np.array([6,7,8,9,10,11,12,13])\n",
    "#Kita mempunyai array baru yaitu array b dengan elemennya adalah 6,7,8,9,10\n",
    "#Baik nama array ataupun elemen array adalah bebas "
   ]
  },
  {
   "cell_type": "code",
   "execution_count": 93,
   "id": "775d78d9",
   "metadata": {},
   "outputs": [
    {
     "ename": "ValueError",
     "evalue": "operands could not be broadcast together with shapes (5,) (8,) ",
     "output_type": "error",
     "traceback": [
      "\u001b[1;31m---------------------------------------------------------------------------\u001b[0m",
      "\u001b[1;31mValueError\u001b[0m                                Traceback (most recent call last)",
      "\u001b[1;32m~\\AppData\\Local\\Temp\\ipykernel_18072\\3553919051.py\u001b[0m in \u001b[0;36m<module>\u001b[1;34m\u001b[0m\n\u001b[1;32m----> 1\u001b[1;33m \u001b[0ma\u001b[0m\u001b[1;33m+\u001b[0m\u001b[0mb\u001b[0m\u001b[1;33m\u001b[0m\u001b[1;33m\u001b[0m\u001b[0m\n\u001b[0m",
      "\u001b[1;31mValueError\u001b[0m: operands could not be broadcast together with shapes (5,) (8,) "
     ]
    }
   ],
   "source": [
    "a+b"
   ]
  },
  {
   "cell_type": "code",
   "execution_count": 94,
   "id": "9e0ac63a",
   "metadata": {},
   "outputs": [
    {
     "ename": "ValueError",
     "evalue": "operands could not be broadcast together with shapes (5,) (8,) ",
     "output_type": "error",
     "traceback": [
      "\u001b[1;31m---------------------------------------------------------------------------\u001b[0m",
      "\u001b[1;31mValueError\u001b[0m                                Traceback (most recent call last)",
      "\u001b[1;32m~\\AppData\\Local\\Temp\\ipykernel_18072\\3576694047.py\u001b[0m in \u001b[0;36m<module>\u001b[1;34m\u001b[0m\n\u001b[1;32m----> 1\u001b[1;33m \u001b[0ma\u001b[0m\u001b[1;33m-\u001b[0m\u001b[0mb\u001b[0m\u001b[1;33m\u001b[0m\u001b[1;33m\u001b[0m\u001b[0m\n\u001b[0m\u001b[0;32m      2\u001b[0m \u001b[1;31m#Namun pada operasi pengurangan, elemen array yang berbeda jumlah tidak dapat diproses\u001b[0m\u001b[1;33m\u001b[0m\u001b[1;33m\u001b[0m\u001b[0m\n",
      "\u001b[1;31mValueError\u001b[0m: operands could not be broadcast together with shapes (5,) (8,) "
     ]
    }
   ],
   "source": [
    "a-b\n",
    "#Namun pada operasi pengurangan, elemen array yang berbeda jumlah tidak dapat diproses"
   ]
  },
  {
   "cell_type": "code",
   "execution_count": 95,
   "id": "8b4009d7",
   "metadata": {},
   "outputs": [
    {
     "ename": "ValueError",
     "evalue": "operands could not be broadcast together with shapes (5,) (8,) ",
     "output_type": "error",
     "traceback": [
      "\u001b[1;31m---------------------------------------------------------------------------\u001b[0m",
      "\u001b[1;31mValueError\u001b[0m                                Traceback (most recent call last)",
      "\u001b[1;32m~\\AppData\\Local\\Temp\\ipykernel_18072\\3127287692.py\u001b[0m in \u001b[0;36m<module>\u001b[1;34m\u001b[0m\n\u001b[1;32m----> 1\u001b[1;33m \u001b[0ma\u001b[0m\u001b[1;33m/\u001b[0m\u001b[0mb\u001b[0m\u001b[1;33m\u001b[0m\u001b[1;33m\u001b[0m\u001b[0m\n\u001b[0m\u001b[0;32m      2\u001b[0m \u001b[1;31m#Operasi pembagian masih bisa dijalankan walaupun jumlah elemen array berbeda\u001b[0m\u001b[1;33m\u001b[0m\u001b[1;33m\u001b[0m\u001b[0m\n",
      "\u001b[1;31mValueError\u001b[0m: operands could not be broadcast together with shapes (5,) (8,) "
     ]
    }
   ],
   "source": [
    "a/b\n",
    "#Operasi pembagian masih bisa dijalankan walaupun jumlah elemen array berbeda "
   ]
  },
  {
   "cell_type": "code",
   "execution_count": 96,
   "id": "c3bd1c8f",
   "metadata": {},
   "outputs": [
    {
     "ename": "ValueError",
     "evalue": "operands could not be broadcast together with shapes (8,) (5,) ",
     "output_type": "error",
     "traceback": [
      "\u001b[1;31m---------------------------------------------------------------------------\u001b[0m",
      "\u001b[1;31mValueError\u001b[0m                                Traceback (most recent call last)",
      "\u001b[1;32m~\\AppData\\Local\\Temp\\ipykernel_18072\\523296466.py\u001b[0m in \u001b[0;36m<module>\u001b[1;34m\u001b[0m\n\u001b[1;32m----> 1\u001b[1;33m \u001b[0mb\u001b[0m\u001b[1;33m**\u001b[0m\u001b[0ma\u001b[0m\u001b[1;33m\u001b[0m\u001b[1;33m\u001b[0m\u001b[0m\n\u001b[0m",
      "\u001b[1;31mValueError\u001b[0m: operands could not be broadcast together with shapes (8,) (5,) "
     ]
    }
   ],
   "source": [
    "b**a"
   ]
  },
  {
   "cell_type": "code",
   "execution_count": 97,
   "id": "fc3841a4",
   "metadata": {},
   "outputs": [],
   "source": [
    "a = np.array([5,6,7,8,9])\n",
    "b = np.array([6,7,8,9,10])"
   ]
  },
  {
   "cell_type": "code",
   "execution_count": 98,
   "id": "610ee749",
   "metadata": {},
   "outputs": [
    {
     "data": {
      "text/plain": [
       "array([-1, -1, -1, -1, -1])"
      ]
     },
     "execution_count": 98,
     "metadata": {},
     "output_type": "execute_result"
    }
   ],
   "source": [
    "a-b"
   ]
  },
  {
   "cell_type": "code",
   "execution_count": 99,
   "id": "faf73519",
   "metadata": {},
   "outputs": [
    {
     "data": {
      "text/plain": [
       "array([30, 42, 56, 72, 90])"
      ]
     },
     "execution_count": 99,
     "metadata": {},
     "output_type": "execute_result"
    }
   ],
   "source": [
    "a*b"
   ]
  },
  {
   "cell_type": "code",
   "execution_count": 100,
   "id": "13beed6f",
   "metadata": {},
   "outputs": [
    {
     "data": {
      "text/plain": [
       "array([ 0.28366219,  0.96017029,  0.75390225, -0.14550003, -0.91113026])"
      ]
     },
     "execution_count": 100,
     "metadata": {},
     "output_type": "execute_result"
    }
   ],
   "source": [
    "np.cos(a)"
   ]
  },
  {
   "cell_type": "code",
   "execution_count": 101,
   "id": "8fbbc6ef",
   "metadata": {},
   "outputs": [
    {
     "data": {
      "text/plain": [
       "array([ 0.96017029,  0.75390225, -0.14550003, -0.91113026, -0.83907153])"
      ]
     },
     "execution_count": 101,
     "metadata": {},
     "output_type": "execute_result"
    }
   ],
   "source": [
    "np.cos(b)"
   ]
  },
  {
   "cell_type": "code",
   "execution_count": 102,
   "id": "416a61a7",
   "metadata": {},
   "outputs": [
    {
     "data": {
      "text/plain": [
       "array([-3.38051501, -0.29100619,  0.87144798, -6.79971146, -0.45231566])"
      ]
     },
     "execution_count": 102,
     "metadata": {},
     "output_type": "execute_result"
    }
   ],
   "source": [
    "np.tan(a)"
   ]
  },
  {
   "cell_type": "code",
   "execution_count": 103,
   "id": "057ecf5c",
   "metadata": {},
   "outputs": [
    {
     "data": {
      "text/plain": [
       "array([  74.20321058,  201.71315737,  548.31612327, 1490.47882579,\n",
       "       4051.54190208])"
      ]
     },
     "execution_count": 103,
     "metadata": {},
     "output_type": "execute_result"
    }
   ],
   "source": [
    "np.sinh(a)"
   ]
  },
  {
   "cell_type": "code",
   "execution_count": 104,
   "id": "1e4b91ab",
   "metadata": {},
   "outputs": [
    {
     "data": {
      "text/plain": [
       "array([  74.20994852,  201.71563612,  548.31703516, 1490.47916125,\n",
       "       4051.54202549])"
      ]
     },
     "execution_count": 104,
     "metadata": {},
     "output_type": "execute_result"
    }
   ],
   "source": [
    "np.cosh(a)"
   ]
  },
  {
   "cell_type": "code",
   "execution_count": 105,
   "id": "c3ce4fed",
   "metadata": {},
   "outputs": [
    {
     "data": {
      "text/plain": [
       "array([0.9999092 , 0.99998771, 0.99999834, 0.99999977, 0.99999997])"
      ]
     },
     "execution_count": 105,
     "metadata": {},
     "output_type": "execute_result"
    }
   ],
   "source": [
    "np.tanh(a)"
   ]
  },
  {
   "cell_type": "code",
   "execution_count": 106,
   "id": "f0b9ff08",
   "metadata": {},
   "outputs": [
    {
     "data": {
      "text/plain": [
       "array([2.23606798, 2.44948974, 2.64575131, 2.82842712, 3.        ])"
      ]
     },
     "execution_count": 106,
     "metadata": {},
     "output_type": "execute_result"
    }
   ],
   "source": [
    "np.sqrt(a)"
   ]
  },
  {
   "cell_type": "markdown",
   "id": "2407ad03",
   "metadata": {},
   "source": [
    "# 5.20.6 Perkalian Matrix pada Numpy\n"
   ]
  },
  {
   "cell_type": "code",
   "execution_count": 107,
   "id": "d9a04223",
   "metadata": {},
   "outputs": [
    {
     "name": "stdout",
     "output_type": "stream",
     "text": [
      "[[1 2 3 4]\n",
      " [5 6 7 8]]\n"
     ]
    }
   ],
   "source": [
    "a = np.array ([[1,2,3,4],[5,6,7,8]])\n",
    "print(a)\n"
   ]
  },
  {
   "cell_type": "code",
   "execution_count": 108,
   "id": "0b01e959",
   "metadata": {},
   "outputs": [
    {
     "name": "stdout",
     "output_type": "stream",
     "text": [
      "[[9 8 7 6]\n",
      " [7 1 4 3]]\n"
     ]
    }
   ],
   "source": [
    "b = np.array ([[9,8,7,6],[7,1,4,3]])\n",
    "print(b)"
   ]
  },
  {
   "cell_type": "code",
   "execution_count": 109,
   "id": "4fad049f",
   "metadata": {},
   "outputs": [
    {
     "name": "stdout",
     "output_type": "stream",
     "text": [
      "[[ 9 16 21 24]\n",
      " [35  6 28 24]]\n"
     ]
    }
   ],
   "source": [
    "c = a*b\n",
    "print(c)"
   ]
  },
  {
   "cell_type": "code",
   "execution_count": 110,
   "id": "3f755f0c",
   "metadata": {},
   "outputs": [
    {
     "ename": "ValueError",
     "evalue": "matmul: Input operand 1 has a mismatch in its core dimension 0, with gufunc signature (n?,k),(k,m?)->(n?,m?) (size 2 is different from 4)",
     "output_type": "error",
     "traceback": [
      "\u001b[1;31m---------------------------------------------------------------------------\u001b[0m",
      "\u001b[1;31mValueError\u001b[0m                                Traceback (most recent call last)",
      "\u001b[1;32m~\\AppData\\Local\\Temp\\ipykernel_18072\\4000991568.py\u001b[0m in \u001b[0;36m<module>\u001b[1;34m\u001b[0m\n\u001b[1;32m----> 1\u001b[1;33m \u001b[0md\u001b[0m \u001b[1;33m=\u001b[0m \u001b[0mnp\u001b[0m\u001b[1;33m.\u001b[0m\u001b[0mmatmul\u001b[0m\u001b[1;33m(\u001b[0m\u001b[0ma\u001b[0m\u001b[1;33m,\u001b[0m\u001b[0mb\u001b[0m\u001b[1;33m)\u001b[0m\u001b[1;33m\u001b[0m\u001b[1;33m\u001b[0m\u001b[0m\n\u001b[0m\u001b[0;32m      2\u001b[0m \u001b[0mprint\u001b[0m\u001b[1;33m(\u001b[0m\u001b[0md\u001b[0m\u001b[1;33m)\u001b[0m\u001b[1;33m\u001b[0m\u001b[1;33m\u001b[0m\u001b[0m\n",
      "\u001b[1;31mValueError\u001b[0m: matmul: Input operand 1 has a mismatch in its core dimension 0, with gufunc signature (n?,k),(k,m?)->(n?,m?) (size 2 is different from 4)"
     ]
    }
   ],
   "source": [
    "d = np.matmul(a,b)\n",
    "print(d)"
   ]
  },
  {
   "cell_type": "code",
   "execution_count": 111,
   "id": "509f5287",
   "metadata": {},
   "outputs": [
    {
     "name": "stdout",
     "output_type": "stream",
     "text": [
      "[[ 9 10]\n",
      " [11 12]\n",
      " [13 14]\n",
      " [15 16]]\n"
     ]
    }
   ],
   "source": [
    "e = np.array([[9,10],[11,12],[13,14],[15,16]])\n",
    "print(e)\n"
   ]
  },
  {
   "cell_type": "code",
   "execution_count": 112,
   "id": "003f86a1",
   "metadata": {},
   "outputs": [
    {
     "name": "stdout",
     "output_type": "stream",
     "text": [
      "[[130 140]\n",
      " [322 348]]\n"
     ]
    }
   ],
   "source": [
    "f = np.matmul(a,e)\n",
    "print(f)"
   ]
  },
  {
   "cell_type": "code",
   "execution_count": 113,
   "id": "631b3db9",
   "metadata": {},
   "outputs": [
    {
     "ename": "ValueError",
     "evalue": "operands could not be broadcast together with shapes (2,4) (4,2) ",
     "output_type": "error",
     "traceback": [
      "\u001b[1;31m---------------------------------------------------------------------------\u001b[0m",
      "\u001b[1;31mValueError\u001b[0m                                Traceback (most recent call last)",
      "\u001b[1;32m~\\AppData\\Local\\Temp\\ipykernel_18072\\2513138200.py\u001b[0m in \u001b[0;36m<module>\u001b[1;34m\u001b[0m\n\u001b[1;32m----> 1\u001b[1;33m \u001b[0mg\u001b[0m \u001b[1;33m=\u001b[0m \u001b[0ma\u001b[0m\u001b[1;33m*\u001b[0m\u001b[0me\u001b[0m\u001b[1;33m\u001b[0m\u001b[1;33m\u001b[0m\u001b[0m\n\u001b[0m",
      "\u001b[1;31mValueError\u001b[0m: operands could not be broadcast together with shapes (2,4) (4,2) "
     ]
    }
   ],
   "source": [
    "g = a*e"
   ]
  },
  {
   "cell_type": "markdown",
   "id": "dfada5a4",
   "metadata": {},
   "source": [
    "# 5.20.7 min, max, dan sum pada Numpy"
   ]
  },
  {
   "cell_type": "code",
   "execution_count": 114,
   "id": "a1556a94",
   "metadata": {},
   "outputs": [
    {
     "name": "stdout",
     "output_type": "stream",
     "text": [
      "[[ 1  2  3  4]\n",
      " [ 5  6  7  8]\n",
      " [ 9 10 11 12]]\n"
     ]
    }
   ],
   "source": [
    "a = np.array([[1,2,3,4],\n",
    "              [5,6,7,8],\n",
    "              [9,10,11,12]])\n",
    "print(a)"
   ]
  },
  {
   "cell_type": "code",
   "execution_count": 115,
   "id": "b0eea316",
   "metadata": {},
   "outputs": [
    {
     "name": "stdout",
     "output_type": "stream",
     "text": [
      "1\n"
     ]
    }
   ],
   "source": [
    "b = np.min(a)\n",
    "print(b)"
   ]
  },
  {
   "cell_type": "code",
   "execution_count": 116,
   "id": "46d18b6a",
   "metadata": {},
   "outputs": [
    {
     "name": "stdout",
     "output_type": "stream",
     "text": [
      "[1 5 9]\n"
     ]
    }
   ],
   "source": [
    "d = np.min(a,axis=1)\n",
    "print(d)\n"
   ]
  },
  {
   "cell_type": "code",
   "execution_count": 117,
   "id": "5bd91ca2",
   "metadata": {},
   "outputs": [
    {
     "name": "stdout",
     "output_type": "stream",
     "text": [
      "12\n"
     ]
    }
   ],
   "source": [
    "e = np.max(a)\n",
    "print(e)\n"
   ]
  },
  {
   "cell_type": "code",
   "execution_count": 118,
   "id": "b1857121",
   "metadata": {},
   "outputs": [
    {
     "name": "stdout",
     "output_type": "stream",
     "text": [
      "[ 4  8 12]\n"
     ]
    }
   ],
   "source": [
    "g = np.max(a,axis=1)\n",
    "print(g)"
   ]
  },
  {
   "cell_type": "code",
   "execution_count": 119,
   "id": "ca96522f",
   "metadata": {},
   "outputs": [
    {
     "name": "stdout",
     "output_type": "stream",
     "text": [
      "78\n"
     ]
    }
   ],
   "source": [
    "h = np.sum(a)\n",
    "print(h)"
   ]
  },
  {
   "cell_type": "code",
   "execution_count": 120,
   "id": "67d450bf",
   "metadata": {},
   "outputs": [
    {
     "name": "stdout",
     "output_type": "stream",
     "text": [
      "[15 18 21 24]\n"
     ]
    }
   ],
   "source": [
    "h = np.sum(a,axis=0)\n",
    "print(h)\n"
   ]
  },
  {
   "cell_type": "code",
   "execution_count": 121,
   "id": "38bb7789",
   "metadata": {},
   "outputs": [
    {
     "name": "stdout",
     "output_type": "stream",
     "text": [
      "[10 26 42]\n"
     ]
    }
   ],
   "source": [
    "i = np.sum(a,axis=1)\n",
    "print(i)"
   ]
  }
 ],
 "metadata": {
  "kernelspec": {
   "display_name": "Python 3 (ipykernel)",
   "language": "python",
   "name": "python3"
  },
  "language_info": {
   "codemirror_mode": {
    "name": "ipython",
    "version": 3
   },
   "file_extension": ".py",
   "mimetype": "text/x-python",
   "name": "python",
   "nbconvert_exporter": "python",
   "pygments_lexer": "ipython3",
   "version": "3.9.13"
  }
 },
 "nbformat": 4,
 "nbformat_minor": 5
}
