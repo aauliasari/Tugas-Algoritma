{
 "cells": [
  {
   "cell_type": "code",
   "execution_count": 15,
   "id": "86f36aa3",
   "metadata": {},
   "outputs": [
    {
     "name": "stdout",
     "output_type": "stream",
     "text": [
      "nama saya auli\n"
     ]
    }
   ],
   "source": [
    "nama = 'nama saya aulia'\n",
    "print(nama[0:-1])\n",
    "#huruf paling awal dimulai dari angka 0\n",
    "#jika ingin print sesuatu untuk penomoran hurufnya tambahkan 1 agar kata yang ingin di print lengkap\n",
    "#untuk print dari awal sampai akhir jika urutannya banyak ketik[0:-1] tetapi huruf terakhir tidak "
   ]
  },
  {
   "cell_type": "code",
   "execution_count": 2,
   "id": "ae88a60a",
   "metadata": {},
   "outputs": [
    {
     "name": "stdout",
     "output_type": "stream",
     "text": [
      "nama saya aulia\n"
     ]
    }
   ],
   "source": [
    "nama = 'nama saya aulia'\n",
    "print(nama[0:15])\n",
    "#jika ingin meng-output semua kata dengan sempurna bisa dimasukkan [0:(urutan huruf terakhir)] atau dikosongkan [0:]"
   ]
  },
  {
   "cell_type": "code",
   "execution_count": 14,
   "id": "c2ce3a03",
   "metadata": {},
   "outputs": [
    {
     "name": "stdout",
     "output_type": "stream",
     "text": [
      " saya aulia\n"
     ]
    }
   ],
   "source": [
    "nama = 'nama saya aulia'\n",
    "print (nama[4:])\n",
    "#jika [x:y] berarti outputnya dimulai dari urutan yang ke-x dan berakhir di urutan ke-y\n",
    "#bisa juga [(urutan huruf):] untuk meng-output sampai huruf terakhir"
   ]
  },
  {
   "cell_type": "code",
   "execution_count": 1,
   "id": "9dfca117",
   "metadata": {},
   "outputs": [
    {
     "name": "stdout",
     "output_type": "stream",
     "text": [
      "nama saya aulia\n"
     ]
    }
   ],
   "source": [
    "nama = 'nama saya aulia'\n",
    "print (nama[:])\n",
    "#jika ingin meng-output dari awal sampai akhir dengan sempurna bisa dengan mengosongkan keduanya seperti [:]"
   ]
  },
  {
   "cell_type": "code",
   "execution_count": 4,
   "id": "b631b65d",
   "metadata": {},
   "outputs": [
    {
     "name": "stdout",
     "output_type": "stream",
     "text": [
      "aranrua\n"
     ]
    }
   ],
   "source": [
    "nama = 'algoritma dan struktur data'\n",
    "print (nama[0:-1:4])\n",
    "#apabila [x:y:z] berarti outputnya adalah dimulai dari urutan huruf ke-x sampai urutan huruf ke-y, tetapi dari urutan ke-x sampai ke-y lomcat sebanyak z kali"
   ]
  },
  {
   "cell_type": "code",
   "execution_count": 3,
   "id": "1736e755",
   "metadata": {},
   "outputs": [
    {
     "name": "stdout",
     "output_type": "stream",
     "text": [
      "27\n"
     ]
    }
   ],
   "source": [
    "nama = 'algoritma dan struktur data'\n",
    "print(len(nama))\n",
    "#berarti jumlah semua huruf yang menghitungnya diawali dari 0"
   ]
  },
  {
   "cell_type": "code",
   "execution_count": 2,
   "id": "0d97b77d",
   "metadata": {},
   "outputs": [
    {
     "data": {
      "text/plain": [
       "'ALGORITMA DAN STRUKTUR DATA'"
      ]
     },
     "execution_count": 2,
     "metadata": {},
     "output_type": "execute_result"
    }
   ],
   "source": [
    "nama = 'algoritma dan struktur data'\n",
    "nama.upper()\n",
    "#(nama.upper()) berarti mengubah semua huruf pada kalimat menjadi huruf kapital"
   ]
  },
  {
   "cell_type": "code",
   "execution_count": 4,
   "id": "eed7679f",
   "metadata": {},
   "outputs": [
    {
     "data": {
      "text/plain": [
       "'algoritma dan struktur data'"
      ]
     },
     "execution_count": 4,
     "metadata": {},
     "output_type": "execute_result"
    }
   ],
   "source": [
    "nama = 'ALGORITMA DAN STRUKTUR DATA'\n",
    "nama.lower()\n",
    "#(nama.lower()) berarti mengubah semua huruf pada kalimat menjadi huruf kecil"
   ]
  },
  {
   "cell_type": "code",
   "execution_count": 7,
   "id": "3e2bc7ce",
   "metadata": {},
   "outputs": [
    {
     "data": {
      "text/plain": [
       "10"
      ]
     },
     "execution_count": 7,
     "metadata": {},
     "output_type": "execute_result"
    }
   ],
   "source": [
    "nama = 'algoritma dan struktur data'\n",
    "nama.find('dan')\n",
    "#(nama.find('xyz')) berarti mencari kata tersebut dimulai dari huruf urutan ke-x"
   ]
  },
  {
   "cell_type": "code",
   "execution_count": 8,
   "id": "e5213f54",
   "metadata": {},
   "outputs": [
    {
     "data": {
      "text/plain": [
       "'algoritma dan struktur aljabar'"
      ]
     },
     "execution_count": 8,
     "metadata": {},
     "output_type": "execute_result"
    }
   ],
   "source": [
    "nama = 'algoritma dan struktur data'\n",
    "nama.replace('data','aljabar')\n",
    "#(nama.replace('x','y')) berarti mengubah kata 'x' menjadi 'y' dalam kalimat tersebut"
   ]
  },
  {
   "cell_type": "code",
   "execution_count": 10,
   "id": "75dac1b7",
   "metadata": {},
   "outputs": [
    {
     "name": "stdout",
     "output_type": "stream",
     "text": [
      "False\n"
     ]
    }
   ],
   "source": [
    "nama = 'algoritma dan struktur data'\n",
    "print('Algortima'in nama)\n",
    "#pernyataan tersebut false karena perbedaan huruf awal yang diketahui huruf kecil dan yang di print huruf kapital"
   ]
  },
  {
   "cell_type": "code",
   "execution_count": 11,
   "id": "2b95f48a",
   "metadata": {},
   "outputs": [
    {
     "name": "stdout",
     "output_type": "stream",
     "text": [
      "True\n"
     ]
    }
   ],
   "source": [
    "nama = 'algoritma dan struktur data'\n",
    "print('algoritma'in nama)\n",
    "#pernyataan tersebut true karena kata yang diketahui sama dengan kata yang di print"
   ]
  },
  {
   "cell_type": "code",
   "execution_count": 5,
   "id": "3dd1ed09",
   "metadata": {
    "scrolled": true
   },
   "outputs": [
    {
     "name": "stdout",
     "output_type": "stream",
     "text": [
      "7\n",
      "2\n",
      "12\n",
      "3.5\n",
      "1\n",
      "2\n",
      "49\n",
      "12\n",
      "7\n"
     ]
    }
   ],
   "source": [
    "print (4+3) #tanda (+) adalah penjumlahan\n",
    "print (4-2) #tanda (-) adalah pengurangan\n",
    "print (4*3) #tanda (*) adalah perkalian\n",
    "print (7/2) #tanda (/) adalah pembagian\n",
    "print (9%2) #tanda (%) adalah modulo\n",
    "print (8//3) #tanda (//) adalah pembagian pembulatan\n",
    "print (7**2) #tanda (**) adalah pemangkatan\n",
    "x = 9\n",
    "x+=3 #berarti x+3=\n",
    "print (x)\n",
    "x-=5 #berarti x-2=\n",
    "print (x)"
   ]
  },
  {
   "cell_type": "code",
   "execution_count": 6,
   "id": "a8ccfde7",
   "metadata": {
    "scrolled": true
   },
   "outputs": [
    {
     "name": "stdout",
     "output_type": "stream",
     "text": [
      "True\n",
      "True\n",
      "True\n",
      "True\n",
      "True\n",
      "True\n"
     ]
    }
   ],
   "source": [
    "x = 4>3\n",
    "print(x) \n",
    "#hasilnya true karena terbukti benar 4 lebih besar dari 3 \n",
    "x = 3<4\n",
    "print(x)\n",
    "#hasilnya true karena terbukti benar 3 lebih kecil dari 4\n",
    "x = 4 >= 3\n",
    "print(x)\n",
    "#hasilnya true karena terbukti benar 4 lebih besar dari 3\n",
    "x = 3 <= 4\n",
    "print(x)\n",
    "#hasilnya true karena terukti benar 3 lebih kecil dari 4\n",
    "x = 4 == 4\n",
    "print(x)\n",
    "#hasilnya true karena terbukti benar 4 sama dengan 4\n",
    "x = 3 != 5\n",
    "print(x)\n",
    "#hasilnya true karena terbukti benar 3 tidak sama dengan 5"
   ]
  },
  {
   "cell_type": "code",
   "execution_count": 7,
   "id": "a2aaf1a1",
   "metadata": {},
   "outputs": [
    {
     "name": "stdout",
     "output_type": "stream",
     "text": [
      "False\n",
      "False\n",
      "False\n",
      "False\n",
      "False\n",
      "False\n"
     ]
    }
   ],
   "source": [
    "x = 3>5\n",
    "print(x) \n",
    "#hasilnya false karena terbukti salah 3 lebih besar dari 4\n",
    "x = 7<5\n",
    "print(x)\n",
    "#hasilnya false karena terbukti salah 7 lebih kecil dari 5\n",
    "x = 5 >= 7\n",
    "print(x)\n",
    "#hasilnya false karena terbukti salah 5 lebih besar dari 7\n",
    "x = 3 <= 2\n",
    "print(x)\n",
    "#hasilnya false karena terukti salah 3 lebih kecil dari 2\n",
    "x = 4 == 3\n",
    "print(x)\n",
    "#hasilnya false karena terbukti salah 4 sama dengan 3\n",
    "x = 3 != 3\n",
    "print(x)\n",
    "#hasilnya false karena terbukti salah 3 tidak sama dengan 3"
   ]
  },
  {
   "cell_type": "code",
   "execution_count": 11,
   "id": "9c4c1b14",
   "metadata": {},
   "outputs": [
    {
     "name": "stdout",
     "output_type": "stream",
     "text": [
      "True\n",
      "True\n",
      "False\n",
      "True\n",
      "False\n"
     ]
    }
   ],
   "source": [
    "nilai_aulia = 90\n",
    "nilai_rika = 92\n",
    "print(nilai_aulia > 85 and nilai_rika < 100)\n",
    "#hasilnya true karena nilai aulia lebih besar dari 85 bernilai benar dan nilai rika lebih kecil dari 100 bernilai benar. sehingga keduanya bernilai benar \n",
    "print(nilai_aulia < 85 or nilai_rika < 100)\n",
    "#hasilnya true karena nilai aulia lebih kecil dari 85 bernilai salah atau nilai rika lebih kecil dari 100 bernilai benar. sehingga keduanya bernilai benar \n",
    "print(nilai_aulia < 85 or nilai_rika > 100)\n",
    "#hasilnya false karena nilai aulia lebih kecil dari 85 bernilai salah atau nilai rika lebih besar dari 100 bernilai salah. sehingga keduanya bernilai salah \n",
    "print(nilai_aulia > 85 or nilai_rika > 100)\n",
    "#hasilnya true karena nilai aulia lebih besar dari 85 bernilai benar atau nilai rika lebih besar dari 100 bernilai salah. sehingga keduanya bernilai benar \n",
    "print(nilai_aulia > 85 and nilai_rika > 100)\n",
    "#hasilnya false karena nilai aulia lebih besar dari 85 bernilai benar dan nilai rika lebih besar dari 100 bernilai salah. sehingga keduanya bernilai salah"
   ]
  },
  {
   "cell_type": "code",
   "execution_count": 13,
   "id": "626735b7",
   "metadata": {},
   "outputs": [
    {
     "name": "stdout",
     "output_type": "stream",
     "text": [
      "Nilai anda adalah 65\n",
      "Anda mendapatkan nilai C\n",
      "Lain kali musti lebih baik\n"
     ]
    }
   ],
   "source": [
    "nilai = float(input(\"Nilai anda adalah\" + \" \"))\n",
    "if nilai >= 80:\n",
    "  print(\"Anda mendapatkan nilai A\")\n",
    "  print(\"Bagus sekali, selamat!!\")\n",
    "if nilai < 80 and nilai >= 70:\n",
    "  print(\"Anda mendapatkan nilai B\")\n",
    "  print(\"Tingkatkan lagi, semangat!!\")\n",
    "if nilai >=60 and nilai < 70:\n",
    "  print (\"Anda mendapatkan nilai C\")\n",
    "  print (\"Lain kali musti lebih baik\")\n",
    "if nilai >= 50 and nilai < 60:\n",
    "  print (\"Anda mendapatkan nilai D\")\n",
    "  print (\"Ulang lagi tahun depan\")\n",
    "if nilai < 50:\n",
    "  print (\"Anda mendapatkan nilai E\")\n",
    "  print (\"Sampai jumpa tahun depan\")"
   ]
  }
 ],
 "metadata": {
  "kernelspec": {
   "display_name": "Python 3 (ipykernel)",
   "language": "python",
   "name": "python3"
  },
  "language_info": {
   "codemirror_mode": {
    "name": "ipython",
    "version": 3
   },
   "file_extension": ".py",
   "mimetype": "text/x-python",
   "name": "python",
   "nbconvert_exporter": "python",
   "pygments_lexer": "ipython3",
   "version": "3.9.13"
  }
 },
 "nbformat": 4,
 "nbformat_minor": 5
}
