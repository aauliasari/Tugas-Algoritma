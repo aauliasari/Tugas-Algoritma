{
 "cells": [
  {
   "cell_type": "markdown",
   "id": "b5180c50",
   "metadata": {},
   "source": [
    "# 5.11 While loop\n",
    "While Loop akan selalu dieksekusi salam nilainya True dan akan berhenti saat nilainya False"
   ]
  },
  {
   "cell_type": "code",
   "execution_count": null,
   "id": "69cf5837",
   "metadata": {},
   "outputs": [],
   "source": [
    "#Latihan While loop 1\n",
    "\n",
    "x = 0         #diketahui input awal x = 0\n",
    "while x<5:    #diketahui batas x < 5\n",
    "    y = x**2  \n",
    "    print(y)  #output nilai y akan terus dieksekusi sampai variabel x bernilai True atau sampai batas x<5 \n",
    "    x = x+1   \n",
    "    print (x) #output nilai x akan terus dieksekusi sampai variabel x bernilai True atau sampai batas x<5\n",
    "    \n",
    "print (\"selesai\")    \n",
    "#apabila while bernilai False, maka output yang keluar adalah yang tidak di dalam program while\n",
    "\n",
    "#output yang keluar akan selang-seling antara x dan y"
   ]
  },
  {
   "cell_type": "code",
   "execution_count": null,
   "id": "2fa0fe83",
   "metadata": {},
   "outputs": [],
   "source": [
    "#Latihan While Loop 2\n",
    "\n",
    "a = 0            #diketahui input awal a = 0\n",
    "while a < 11 :   #diketahui batas a < 11\n",
    "    print(\"Angka \" + str(a)+\" masih dibawah 11\")\n",
    "    a += 2\n",
    "    #didapatkan a bernilai 0, kemudian dieksekusi menjadi a = a + 2, sehingga bernilai True karena terbukti 2 < 11.\n",
    "    #lalu akan terus dieksekusi sampai abernilai 10 dimana 10 batas akhir yang kurang dari 11\n",
    "    \n",
    "print (\"selesai\")\n",
    "#apabila while bernilai False, maka output yang keluar adalah yang tidak di dalam program while"
   ]
  },
  {
   "cell_type": "code",
   "execution_count": null,
   "id": "bf28613d",
   "metadata": {},
   "outputs": [],
   "source": [
    "#Latihan While Loop 3\n",
    "\n",
    "a = 0            #diketahui input awal a = 0\n",
    "while a <= 10:   #diketahui batas a <= 10\n",
    "    print(a*'*')\n",
    "    a += 2\n",
    "    #didapatkan a diganti dengan '*'\n",
    "    #didapatkan a bernilai 0, kemudian dieksekusi menjadi a = a + 2, sehingga bernilai True karena terbukti 2 <= 10\n",
    "    #lalu akan terus dieksekusi sampai bernilai 10 dimana 10 benar terbukti <= 10\n",
    "    "
   ]
  },
  {
   "cell_type": "markdown",
   "id": "f59a7cfa",
   "metadata": {},
   "source": [
    "# 5.12 List di Python\n",
    "List dapat digunakan saat kita akan mempresentasikan objek di dlam Python baik berupa string maupun berupa angka. List dapat dipanggil urutannya, bahkan isinya dapat berubah."
   ]
  },
  {
   "cell_type": "code",
   "execution_count": 9,
   "id": "58606d5c",
   "metadata": {},
   "outputs": [
    {
     "name": "stdout",
     "output_type": "stream",
     "text": [
      "atmaja\n",
      "['adina', 'aulia', 'atmaja', 'indry', 'martini', 'rika']\n",
      "['adina', 'aulia', 'atmaja', 'indry', 'martini']\n",
      "['adina', 'aulia', 'atmaja', 'indry', 'martini', 'rika']\n",
      "['rika']\n"
     ]
    }
   ],
   "source": [
    "#Latihan List Python 1\n",
    "\n",
    "nama = ['adina','aulia','atmaja','indry','martini','rika']\n",
    "#urutan dimulai dari 0\n",
    "\n",
    "print (nama[2])    #output yang keluar adalah urutan ke-2\n",
    "print (nama[:])    #output yang keluar adalah dari awal sampai akhir\n",
    "print (nama[0:-1]) #output yang keluar adalah dari 0 tetapi tanpa urutan yang terakhir\n",
    "print (nama[0:])   #output yang keluar adalah dari awal sampai akhir\n",
    "print (nama[5:])   #output yang keluar adalah dari urutan ke-5 sampai akhir"
   ]
  },
  {
   "cell_type": "markdown",
   "id": "f56e2d76",
   "metadata": {},
   "source": [
    "# 5.13 Metoda List\n",
    "Karena list merupakan objek, maka keberadaannya dapat dimanipulasi dengan menambahkan atau menghilangkan isi nya."
   ]
  },
  {
   "cell_type": "code",
   "execution_count": 2,
   "id": "c0a22a91",
   "metadata": {},
   "outputs": [
    {
     "name": "stdout",
     "output_type": "stream",
     "text": [
      "['adina', 'suta', 'atmaja', 'indry', 'martini', 'rika']\n"
     ]
    }
   ],
   "source": [
    "#Latihan Metoda List 1\n",
    "\n",
    "nama = ['adina','aulia','atmaja','indry','martini','rika']\n",
    "#urutan dimulai dari 0\n",
    "\n",
    "nama[1] = 'suta'  #pengubahan nama di urutan yang diminta\n",
    "\n",
    "print(nama)"
   ]
  },
  {
   "cell_type": "code",
   "execution_count": 3,
   "id": "2fd61df9",
   "metadata": {},
   "outputs": [
    {
     "name": "stdout",
     "output_type": "stream",
     "text": [
      "['adina', 'aulia', 'atmaja', 'indry', 'martini', 'rika', 'indry']\n"
     ]
    }
   ],
   "source": [
    "#Latihan Metoda List 2\n",
    "\n",
    "nama = ['adina','aulia','atmaja','indry','martini','rika']\n",
    "#urutan dimulai dari 0\n",
    "\n",
    "nama.append('indry') #penambahan list ke belakang\n",
    "\n",
    "print(nama)"
   ]
  },
  {
   "cell_type": "code",
   "execution_count": 4,
   "id": "cfaafb0d",
   "metadata": {},
   "outputs": [
    {
     "name": "stdout",
     "output_type": "stream",
     "text": [
      "['adina', 'aulia', 'atmaja', 'ari', 'indry', 'martini', 'rika']\n"
     ]
    }
   ],
   "source": [
    "#Latihan Metoda List 3\n",
    "\n",
    "nama = ['adina','aulia','atmaja','indry','martini','rika']\n",
    "#urutan dimulai dari 0\n",
    "\n",
    "nama.insert(3,'ari') #penambahan list sesuai ke urutan yang diminta\n",
    "\n",
    "print(nama)"
   ]
  },
  {
   "cell_type": "code",
   "execution_count": 5,
   "id": "4a384d18",
   "metadata": {},
   "outputs": [
    {
     "name": "stdout",
     "output_type": "stream",
     "text": [
      "['aulia', 'atmaja', 'indry', 'martini', 'rika']\n"
     ]
    }
   ],
   "source": [
    "#Latihan Metoda List 4\n",
    "\n",
    "nama = ['adina','aulia','atmaja','indry','martini','rika']\n",
    "#urutan dimulai dari 0\n",
    "\n",
    "nama.remove('adina') #penghapusan pada list\n",
    "\n",
    "print(nama)"
   ]
  },
  {
   "cell_type": "code",
   "execution_count": 6,
   "id": "9f74eef4",
   "metadata": {},
   "outputs": [
    {
     "name": "stdout",
     "output_type": "stream",
     "text": [
      "False\n"
     ]
    }
   ],
   "source": [
    "#Latihan Metoda List 5\n",
    "\n",
    "nama = ['adina','aulia','atmaja','indry','martini','rika']\n",
    "\n",
    "print ('Adina' in nama)\n",
    "#False karena terdapat nama tersebut di list tetapi penulisannya salah"
   ]
  },
  {
   "cell_type": "code",
   "execution_count": 7,
   "id": "797b9237",
   "metadata": {},
   "outputs": [
    {
     "name": "stdout",
     "output_type": "stream",
     "text": [
      "True\n"
     ]
    }
   ],
   "source": [
    "#Latihan Metoda List 6\n",
    "\n",
    "nama = ['adina','aulia','atmaja','indry','martini','rika']\n",
    "\n",
    "print ('indry' in nama)\n",
    "#True karena terdapat nama tersebut di list dan penulisannya benar"
   ]
  },
  {
   "cell_type": "code",
   "execution_count": 8,
   "id": "c1ca4f34",
   "metadata": {},
   "outputs": [
    {
     "name": "stdout",
     "output_type": "stream",
     "text": [
      "6\n"
     ]
    }
   ],
   "source": [
    "#Latihan Metoda List 7\n",
    "\n",
    "nama = ['adina','aulia','atmaja','indry','martini','rika']\n",
    "\n",
    "print(len(nama)) #berarti menghitung jumlah list yang ada"
   ]
  },
  {
   "cell_type": "markdown",
   "id": "9d027c1c",
   "metadata": {},
   "source": [
    "# 5.14 For Loop\n",
    "For Loop dapat digunakan untuk memanggil semua isi list"
   ]
  },
  {
   "cell_type": "code",
   "execution_count": 10,
   "id": "8c734f10",
   "metadata": {},
   "outputs": [
    {
     "name": "stdout",
     "output_type": "stream",
     "text": [
      "indonesia\n",
      "switzerland\n",
      "saudi arabia\n"
     ]
    }
   ],
   "source": [
    "#Latihan For Loop 1\n",
    "\n",
    "negara = ['indonesia','switzerland','saudi arabia']\n",
    "for nama in negara:\n",
    "    print(nama)\n",
    "\n",
    "#penggunaan for adalah memanggil semua list dengan mengurutkannya ke bawah"
   ]
  },
  {
   "cell_type": "code",
   "execution_count": 11,
   "id": "490cbf1f",
   "metadata": {},
   "outputs": [
    {
     "name": "stdout",
     "output_type": "stream",
     "text": [
      "indonesia\n",
      "switzerland\n",
      "saudi arabia\n"
     ]
    }
   ],
   "source": [
    "#Persamaan for loop dengan while loop\n",
    "\n",
    "i = 0\n",
    "while i < len(negara):\n",
    "    print(negara[i])\n",
    "    i+=1\n",
    "    \n",
    "#dapat juga menggunakan while untuk memanggil semua list dengan mengurutkannya ke bawah"
   ]
  },
  {
   "cell_type": "markdown",
   "id": "6ff4baba",
   "metadata": {},
   "source": [
    "# 5.15 Fungsi Range\n",
    "Fungsi range berguna untuk membangkitkan bilangan berurutan atau berpola yang kita inginkan. Untuk menuliskannya, perlu dikombinasikan dengan for loop. "
   ]
  },
  {
   "cell_type": "code",
   "execution_count": 12,
   "id": "9fcf8bcf",
   "metadata": {},
   "outputs": [
    {
     "name": "stdout",
     "output_type": "stream",
     "text": [
      "0\n",
      "1\n",
      "8\n",
      "27\n",
      "64\n",
      "125\n"
     ]
    }
   ],
   "source": [
    "#latihan fungsi range 1\n",
    "\n",
    "for i in [0,1,2,3,4,5]:\n",
    "    y = i**3\n",
    "    print (y)\n",
    "    \n",
    "#penggunaan for yaitu mengurutkan list dengan urutan kebawah\n",
    "#sehingga output yang keluar dari y dengan y = i**3 dengan urutan kebawah "
   ]
  },
  {
   "cell_type": "code",
   "execution_count": 13,
   "id": "4428eec8",
   "metadata": {},
   "outputs": [
    {
     "name": "stdout",
     "output_type": "stream",
     "text": [
      "range(0, 10)\n"
     ]
    }
   ],
   "source": [
    "#latihan fungsi range 2\n",
    "\n",
    "angka = range(10)\n",
    "print (angka)\n",
    "\n",
    "#berarti pengurutan yang dimulai dari 0 sampai 10"
   ]
  },
  {
   "cell_type": "code",
   "execution_count": 17,
   "id": "f1254f1e",
   "metadata": {},
   "outputs": [
    {
     "name": "stdout",
     "output_type": "stream",
     "text": [
      "0\n",
      "1\n",
      "2\n",
      "3\n",
      "4\n",
      "5\n",
      "6\n",
      "7\n",
      "8\n",
      "9\n"
     ]
    }
   ],
   "source": [
    "#latihan fungsi range 3\n",
    "\n",
    "angka = range(10)\n",
    "for isi in angka:\n",
    "    print(isi)\n",
    "    \n",
    "#berarti output yang keluar adalah sesuai dengan penggunaan for yaitu membangkitkan bilangan berurutan dengan urutan kebawah "
   ]
  },
  {
   "cell_type": "code",
   "execution_count": 15,
   "id": "1b7d0298",
   "metadata": {},
   "outputs": [
    {
     "name": "stdout",
     "output_type": "stream",
     "text": [
      "4\n",
      "5\n",
      "6\n",
      "7\n",
      "8\n",
      "9\n"
     ]
    }
   ],
   "source": [
    "#latihan fungsi range 4\n",
    "\n",
    "for isi in range (4,10):\n",
    "    print (isi)\n",
    "    \n",
    "#berarti output yang keluar adalah membangkitkan bilangan berurutan dari urutan ke-4 sampai ke-10 dengan urutan kebawah"
   ]
  },
  {
   "cell_type": "code",
   "execution_count": 16,
   "id": "a13e40ae",
   "metadata": {},
   "outputs": [
    {
     "name": "stdout",
     "output_type": "stream",
     "text": [
      "2\n",
      "5\n"
     ]
    }
   ],
   "source": [
    "#latihan fungsi range 5\n",
    "\n",
    "for isi in range (2,8,3):\n",
    "    print(isi)\n",
    "    \n",
    "#berarti output yang keluar adalah membangkitkan bilangan berurutan ari urutan ke-2 sampai ke-8 tetapi loncat 3 bilangan dengan urutan kebawah"
   ]
  },
  {
   "cell_type": "code",
   "execution_count": null,
   "id": "9b46fbe8",
   "metadata": {},
   "outputs": [],
   "source": []
  }
 ],
 "metadata": {
  "kernelspec": {
   "display_name": "Python 3 (ipykernel)",
   "language": "python",
   "name": "python3"
  },
  "language_info": {
   "codemirror_mode": {
    "name": "ipython",
    "version": 3
   },
   "file_extension": ".py",
   "mimetype": "text/x-python",
   "name": "python",
   "nbconvert_exporter": "python",
   "pygments_lexer": "ipython3",
   "version": "3.9.13"
  }
 },
 "nbformat": 4,
 "nbformat_minor": 5
}
